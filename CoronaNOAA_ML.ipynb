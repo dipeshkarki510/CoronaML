{
  "nbformat": 4,
  "nbformat_minor": 0,
  "metadata": {
    "colab": {
      "name": "CoronaNOAA_ML.ipynb",
      "provenance": [],
      "collapsed_sections": [],
      "toc_visible": true,
      "authorship_tag": "ABX9TyO9zMEu/WsrXh3wCgeMS3ke",
      "include_colab_link": true
    },
    "kernelspec": {
      "name": "python3",
      "display_name": "Python 3"
    }
  },
  "cells": [
    {
      "cell_type": "markdown",
      "metadata": {
        "id": "view-in-github",
        "colab_type": "text"
      },
      "source": [
        "<a href=\"https://colab.research.google.com/github/dipeshkarki510/CoronaML/blob/master/CoronaNOAA_ML.ipynb\" target=\"_parent\"><img src=\"https://colab.research.google.com/assets/colab-badge.svg\" alt=\"Open In Colab\"/></a>"
      ]
    },
    {
      "cell_type": "markdown",
      "metadata": {
        "id": "SoAKdFtpqeG6",
        "colab_type": "text"
      },
      "source": [
        "THIS MACHINE LEARNING SCRIPT ATTEMPTS TO DEVELOP THE DEEP LEARNING MODEL IN KERAS WITH TENSOR FLOW IN BACKEND TO PREDICT THE NUMBER OF CONFIRMED CORONA VIRUSS CASE WITH PRECIPITATION AND TEMPERATURE AS THE INPUTS. THE MODEL TAKES DATA FROM NOAA WHICH USES 9000 EARTH STATION TO RECORD DAILY TEMPERATURE AND PRESIPITATION. TEMPERATURE DATA ARE IN TENTH OF CENTIGRADE WHILE PRESPITATION IS ALSO IN TENTH OF MM. MEANWHILE THE COVID CASE FROM JAN 2) ONWARDS ARE ONLY CONSIDERED."
      ]
    },
    {
      "cell_type": "markdown",
      "metadata": {
        "id": "KEogPQjCrtWi",
        "colab_type": "text"
      },
      "source": [
        "THE MODEL USES RELU AS ACTIVATION FUNCTION AND ADAM ALGORITHM AS OPTIMIZER WITH MEAN_SQUARE_ERROR AS LOSS FUNCTION. SINCE MACHINE LEARNING DOESN\"T GIVE CAUSATION THIS MODEL IN NO MEAN IMPLIES THERE IS RELATION BETWEEN TEMPERATURE AND PRESIPITATION ON COVID-19 CASES"
      ]
    },
    {
      "cell_type": "markdown",
      "metadata": {
        "id": "s0ndoUsCsM1q",
        "colab_type": "text"
      },
      "source": [
        "MAJOR LIMITATION OF THE MODEL IS IT DOESN\"T CONSIDER THE STATEWISE DATA FROM US,AND AUSTRALIA"
      ]
    },
    {
      "cell_type": "markdown",
      "metadata": {
        "id": "eWczwN6MsVP_",
        "colab_type": "text"
      },
      "source": [
        "NOAA DATA CAN BE RETRIEVE IN R USING WORLDMET DATA. THE BEST PAPER TO EXPLAIN THIS IS FROM RECENT MIT PAPER Bukhari, Q., & Jameel, Y. (2020). Will coronavirus pandemic diminish by summer?. Available at SSRN 3556998.\n",
        "THE TRAINING HOWEVER DOESN'T SHOW CONVERGENCE\n",
        "\n",
        "The tr"
      ]
    },
    {
      "cell_type": "code",
      "metadata": {
        "id": "QTQ9tV61BLwx",
        "colab_type": "code",
        "colab": {}
      },
      "source": [
        "import numpy as np\n",
        "import pandas as pd\n"
      ],
      "execution_count": 0,
      "outputs": []
    },
    {
      "cell_type": "markdown",
      "metadata": {
        "id": "cwDiagmhGE2o",
        "colab_type": "text"
      },
      "source": [
        "# First Step is PULL NOAA weather data from National Oceanic and Atmospheric association \n",
        "\n",
        "\n",
        "Summary of the Day Format\n",
        "The yearly files are formatted so that every observation is represented by a single row with the following fields:\n",
        "\n",
        "ID = 11 character station identification code. Please see ghcnd-stations section below for an explantation\n",
        "YEAR/MONTH/DAY = 8 character date in YYYYMMDD format (e.g. 19860529 = May 29, 1986)\n",
        "ELEMENT = 4 character indicator of element type\n",
        "DATA VALUE = 5 character data value for ELEMENT\n",
        "M-FLAG = 1 character Measurement Flag\n",
        "Q-FLAG = 1 character Quality Flag\n",
        "S-FLAG = 1 character Source Flag\n",
        "OBS-TIME = 4-character time of observation in hour-minute format (i.e. 0700 =7:00 am"
      ]
    },
    {
      "cell_type": "code",
      "metadata": {
        "id": "Uacocj15D30p",
        "colab_type": "code",
        "colab": {}
      },
      "source": [
        "noaadaily=pd.read_csv(\"ftp://ftp.ncdc.noaa.gov/pub/data/ghcn/daily/by_year/2020.csv.gz\",compression=\"gzip\",header=None,names=[\"StationId\",\"DateStr\", \"Element\", \"Data\", \"M_Flag\",\"Q_Flag\",\"S_flag\",\"OBS_Time\"])\n",
        "\n"
      ],
      "execution_count": 0,
      "outputs": []
    },
    {
      "cell_type": "code",
      "metadata": {
        "id": "k6QtD2F3EBkz",
        "colab_type": "code",
        "outputId": "6e29e21a-5f44-4787-adc9-811da74f6185",
        "colab": {
          "base_uri": "https://localhost:8080/",
          "height": 204
        }
      },
      "source": [
        "noaadaily.head()\n"
      ],
      "execution_count": 0,
      "outputs": [
        {
          "output_type": "execute_result",
          "data": {
            "text/html": [
              "<div>\n",
              "<style scoped>\n",
              "    .dataframe tbody tr th:only-of-type {\n",
              "        vertical-align: middle;\n",
              "    }\n",
              "\n",
              "    .dataframe tbody tr th {\n",
              "        vertical-align: top;\n",
              "    }\n",
              "\n",
              "    .dataframe thead th {\n",
              "        text-align: right;\n",
              "    }\n",
              "</style>\n",
              "<table border=\"1\" class=\"dataframe\">\n",
              "  <thead>\n",
              "    <tr style=\"text-align: right;\">\n",
              "      <th></th>\n",
              "      <th>StationId</th>\n",
              "      <th>DateStr</th>\n",
              "      <th>Element</th>\n",
              "      <th>Data</th>\n",
              "      <th>M_Flag</th>\n",
              "      <th>Q_Flag</th>\n",
              "      <th>S_flag</th>\n",
              "      <th>OBS_Time</th>\n",
              "    </tr>\n",
              "  </thead>\n",
              "  <tbody>\n",
              "    <tr>\n",
              "      <th>0</th>\n",
              "      <td>US1FLSL0019</td>\n",
              "      <td>20200101</td>\n",
              "      <td>PRCP</td>\n",
              "      <td>0</td>\n",
              "      <td>NaN</td>\n",
              "      <td>NaN</td>\n",
              "      <td>N</td>\n",
              "      <td>NaN</td>\n",
              "    </tr>\n",
              "    <tr>\n",
              "      <th>1</th>\n",
              "      <td>US1FLSL0019</td>\n",
              "      <td>20200101</td>\n",
              "      <td>SNOW</td>\n",
              "      <td>0</td>\n",
              "      <td>NaN</td>\n",
              "      <td>NaN</td>\n",
              "      <td>N</td>\n",
              "      <td>NaN</td>\n",
              "    </tr>\n",
              "    <tr>\n",
              "      <th>2</th>\n",
              "      <td>US1NVNY0012</td>\n",
              "      <td>20200101</td>\n",
              "      <td>PRCP</td>\n",
              "      <td>0</td>\n",
              "      <td>NaN</td>\n",
              "      <td>NaN</td>\n",
              "      <td>N</td>\n",
              "      <td>NaN</td>\n",
              "    </tr>\n",
              "    <tr>\n",
              "      <th>3</th>\n",
              "      <td>US1NVNY0012</td>\n",
              "      <td>20200101</td>\n",
              "      <td>SNOW</td>\n",
              "      <td>0</td>\n",
              "      <td>NaN</td>\n",
              "      <td>NaN</td>\n",
              "      <td>N</td>\n",
              "      <td>NaN</td>\n",
              "    </tr>\n",
              "    <tr>\n",
              "      <th>4</th>\n",
              "      <td>US1ILWM0012</td>\n",
              "      <td>20200101</td>\n",
              "      <td>PRCP</td>\n",
              "      <td>0</td>\n",
              "      <td>NaN</td>\n",
              "      <td>NaN</td>\n",
              "      <td>N</td>\n",
              "      <td>NaN</td>\n",
              "    </tr>\n",
              "  </tbody>\n",
              "</table>\n",
              "</div>"
            ],
            "text/plain": [
              "     StationId   DateStr Element  Data M_Flag Q_Flag S_flag  OBS_Time\n",
              "0  US1FLSL0019  20200101    PRCP     0    NaN    NaN      N       NaN\n",
              "1  US1FLSL0019  20200101    SNOW     0    NaN    NaN      N       NaN\n",
              "2  US1NVNY0012  20200101    PRCP     0    NaN    NaN      N       NaN\n",
              "3  US1NVNY0012  20200101    SNOW     0    NaN    NaN      N       NaN\n",
              "4  US1ILWM0012  20200101    PRCP     0    NaN    NaN      N       NaN"
            ]
          },
          "metadata": {
            "tags": []
          },
          "execution_count": 3
        }
      ]
    },
    {
      "cell_type": "markdown",
      "metadata": {
        "id": "8JdsUivJJH4Y",
        "colab_type": "text"
      },
      "source": [
        "STATION ID Explaination\n",
        "ID = the station identification code.\n",
        "The first two characters denote the FIPS country code\n",
        "The third character is a network code that identifies the station numbering system used\n",
        "0 = unspecified (station identified by up to eight alphanumeric characters)\n",
        "1 = Community Collaborative Rain, Hail,and Snow (CoCoRaHS) based identification number. To ensure consistency with with GHCN Daily, all numbers in the original CoCoRaHS IDs have been left-filled to make them all four digits long. In addition, the characters “-” and “_” have been removed to ensure that the IDs do not exceed 11 characters when preceded by “US1”. For example, the CoCoRaHS ID “AZ-MR-156” becomes “US1AZMR0156” in GHCN-Daily\n",
        "C = U.S. Cooperative Network identification number (last six characters of the GHCN-Daily ID)\n",
        "E = Identification number used in the ECA&D non-blended dataset\n",
        "M = World Meteorological Organization ID (last five characters of the GHCN-Daily ID)\n",
        "N = Identification number used in data supplied by a National Meteorological or Hydrological Center\n",
        "R = U.S. Interagency Remote Automatic Weather Station (RAWS) identifier\n",
        "S = U.S. Natural Resources Conservation Service SNOwpack TELemtry (SNOTEL) station identifier\n",
        "W = WBAN identification number (last five characters of the GHCN-Daily ID)\n",
        "The remaining eight characters contain the actual station ID."
      ]
    },
    {
      "cell_type": "markdown",
      "metadata": {
        "id": "jTP5zWMAJUaP",
        "colab_type": "text"
      },
      "source": [
        ""
      ]
    },
    {
      "cell_type": "code",
      "metadata": {
        "id": "8sEDPHRKI0WV",
        "colab_type": "code",
        "colab": {}
      },
      "source": [
        "#Extract FIPSCountryCode from the stationid\n",
        "noaadaily['FIPSCountryCode']=noaadaily['StationId'].str.slice(0,2)"
      ],
      "execution_count": 0,
      "outputs": []
    },
    {
      "cell_type": "code",
      "metadata": {
        "id": "s39LXGHPLCtD",
        "colab_type": "code",
        "outputId": "5186f020-eae7-465c-9b5d-1a67d2a96c8b",
        "colab": {
          "base_uri": "https://localhost:8080/",
          "height": 204
        }
      },
      "source": [
        "noaadaily.head() "
      ],
      "execution_count": 5,
      "outputs": [
        {
          "output_type": "execute_result",
          "data": {
            "text/html": [
              "<div>\n",
              "<style scoped>\n",
              "    .dataframe tbody tr th:only-of-type {\n",
              "        vertical-align: middle;\n",
              "    }\n",
              "\n",
              "    .dataframe tbody tr th {\n",
              "        vertical-align: top;\n",
              "    }\n",
              "\n",
              "    .dataframe thead th {\n",
              "        text-align: right;\n",
              "    }\n",
              "</style>\n",
              "<table border=\"1\" class=\"dataframe\">\n",
              "  <thead>\n",
              "    <tr style=\"text-align: right;\">\n",
              "      <th></th>\n",
              "      <th>StationId</th>\n",
              "      <th>DateStr</th>\n",
              "      <th>Element</th>\n",
              "      <th>Data</th>\n",
              "      <th>M_Flag</th>\n",
              "      <th>Q_Flag</th>\n",
              "      <th>S_flag</th>\n",
              "      <th>OBS_Time</th>\n",
              "      <th>FIPSCountryCode</th>\n",
              "    </tr>\n",
              "  </thead>\n",
              "  <tbody>\n",
              "    <tr>\n",
              "      <th>0</th>\n",
              "      <td>US1FLSL0019</td>\n",
              "      <td>20200101</td>\n",
              "      <td>PRCP</td>\n",
              "      <td>0</td>\n",
              "      <td>NaN</td>\n",
              "      <td>NaN</td>\n",
              "      <td>N</td>\n",
              "      <td>NaN</td>\n",
              "      <td>US</td>\n",
              "    </tr>\n",
              "    <tr>\n",
              "      <th>1</th>\n",
              "      <td>US1FLSL0019</td>\n",
              "      <td>20200101</td>\n",
              "      <td>SNOW</td>\n",
              "      <td>0</td>\n",
              "      <td>NaN</td>\n",
              "      <td>NaN</td>\n",
              "      <td>N</td>\n",
              "      <td>NaN</td>\n",
              "      <td>US</td>\n",
              "    </tr>\n",
              "    <tr>\n",
              "      <th>2</th>\n",
              "      <td>US1NVNY0012</td>\n",
              "      <td>20200101</td>\n",
              "      <td>PRCP</td>\n",
              "      <td>0</td>\n",
              "      <td>NaN</td>\n",
              "      <td>NaN</td>\n",
              "      <td>N</td>\n",
              "      <td>NaN</td>\n",
              "      <td>US</td>\n",
              "    </tr>\n",
              "    <tr>\n",
              "      <th>3</th>\n",
              "      <td>US1NVNY0012</td>\n",
              "      <td>20200101</td>\n",
              "      <td>SNOW</td>\n",
              "      <td>0</td>\n",
              "      <td>NaN</td>\n",
              "      <td>NaN</td>\n",
              "      <td>N</td>\n",
              "      <td>NaN</td>\n",
              "      <td>US</td>\n",
              "    </tr>\n",
              "    <tr>\n",
              "      <th>4</th>\n",
              "      <td>US1ILWM0012</td>\n",
              "      <td>20200101</td>\n",
              "      <td>PRCP</td>\n",
              "      <td>0</td>\n",
              "      <td>NaN</td>\n",
              "      <td>NaN</td>\n",
              "      <td>N</td>\n",
              "      <td>NaN</td>\n",
              "      <td>US</td>\n",
              "    </tr>\n",
              "  </tbody>\n",
              "</table>\n",
              "</div>"
            ],
            "text/plain": [
              "     StationId   DateStr Element  Data  ... Q_Flag S_flag OBS_Time  FIPSCountryCode\n",
              "0  US1FLSL0019  20200101    PRCP     0  ...    NaN      N      NaN               US\n",
              "1  US1FLSL0019  20200101    SNOW     0  ...    NaN      N      NaN               US\n",
              "2  US1NVNY0012  20200101    PRCP     0  ...    NaN      N      NaN               US\n",
              "3  US1NVNY0012  20200101    SNOW     0  ...    NaN      N      NaN               US\n",
              "4  US1ILWM0012  20200101    PRCP     0  ...    NaN      N      NaN               US\n",
              "\n",
              "[5 rows x 9 columns]"
            ]
          },
          "metadata": {
            "tags": []
          },
          "execution_count": 5
        }
      ]
    },
    {
      "cell_type": "markdown",
      "metadata": {
        "id": "T47xjO5U2KXE",
        "colab_type": "text"
      },
      "source": [
        "**MAIN ELEMENTS ARE** \\n\n",
        "\n",
        "PRCP = Precipitation (tenths of mm)\n",
        "SNOW = Snowfall (mm)\n",
        "SNWD = Snow depth (mm)\n",
        "TMAX = Maximum temperature (tenths of degrees C)\n",
        "TMIN = Minimum temperature (tenths of degrees C)"
      ]
    },
    {
      "cell_type": "code",
      "metadata": {
        "id": "OfNTSlGOLNb8",
        "colab_type": "code",
        "outputId": "ce75ea8e-08a3-4a6c-c42e-5c86369dd369",
        "colab": {
          "base_uri": "https://localhost:8080/",
          "height": 34
        }
      },
      "source": [
        "noaadaily.shape"
      ],
      "execution_count": 6,
      "outputs": [
        {
          "output_type": "execute_result",
          "data": {
            "text/plain": [
              "(7570004, 9)"
            ]
          },
          "metadata": {
            "tags": []
          },
          "execution_count": 6
        }
      ]
    },
    {
      "cell_type": "code",
      "metadata": {
        "id": "-p8snmWsMa2w",
        "colab_type": "code",
        "colab": {}
      },
      "source": [
        "#Extract only the precipitation and the max temperature from the weather station\n",
        "#indexNames = noaadailytemp[ (noaadailytemp['Age'] >= 30) & (dfObj['Age'] <= 40) ].index\n",
        "indexNames = noaadaily[ (noaadaily['Element'] =='TMAX') |(noaadaily['Element'] =='PRCP')  ].index\n",
        "#dfObj.drop(indexNames , inplace=True)\n",
        "\n",
        "\n"
      ],
      "execution_count": 0,
      "outputs": []
    },
    {
      "cell_type": "markdown",
      "metadata": {
        "id": "diHjwDdwVhMy",
        "colab_type": "text"
      },
      "source": [
        "Selecting only those rows that matches the index"
      ]
    },
    {
      "cell_type": "code",
      "metadata": {
        "id": "CRS5sc9aM9Go",
        "colab_type": "code",
        "colab": {}
      },
      "source": [
        "noaa_daily_tempmax_percep=noaadaily.loc[indexNames]"
      ],
      "execution_count": 0,
      "outputs": []
    },
    {
      "cell_type": "code",
      "metadata": {
        "id": "r7LpJ9h2VzNL",
        "colab_type": "code",
        "outputId": "3e354d5b-7d94-4159-ae71-78099bb03f4d",
        "colab": {
          "base_uri": "https://localhost:8080/",
          "height": 34
        }
      },
      "source": [
        "noaa_daily_tempmax_percep.shape"
      ],
      "execution_count": 0,
      "outputs": [
        {
          "output_type": "execute_result",
          "data": {
            "text/plain": [
              "(3144141, 9)"
            ]
          },
          "metadata": {
            "tags": []
          },
          "execution_count": 33
        }
      ]
    },
    {
      "cell_type": "code",
      "metadata": {
        "id": "8d_7NFYoV8fi",
        "colab_type": "code",
        "outputId": "3dadfe3f-359e-4e61-b44d-42922533871a",
        "colab": {
          "base_uri": "https://localhost:8080/",
          "height": 255
        }
      },
      "source": [
        "noaa_daily_tempmax_percep.loc[noaa_daily_tempmax_percep[\"FIPSCountryCode\"]=='NP'].count"
      ],
      "execution_count": 10,
      "outputs": [
        {
          "output_type": "execute_result",
          "data": {
            "text/plain": [
              "<bound method DataFrame.count of            StationId   DateStr Element  ...  S_flag OBS_Time FIPSCountryCode\n",
              "90637    NP000444540  20200101    TMAX  ...       S      NaN              NP\n",
              "90638    NP000444540  20200101    PRCP  ...       S      NaN              NP\n",
              "148431   NPM00044477  20200102    TMAX  ...       S      NaN              NP\n",
              "148433   NPM00044477  20200102    PRCP  ...       S      NaN              NP\n",
              "183432   NP000444540  20200102    TMAX  ...       S      NaN              NP\n",
              "...              ...       ...     ...  ...     ...      ...             ...\n",
              "7423579  NP000444540  20200328    PRCP  ...       S      NaN              NP\n",
              "7464709  NPM00044477  20200329    TMAX  ...       S      NaN              NP\n",
              "7464711  NPM00044477  20200329    PRCP  ...       S      NaN              NP\n",
              "7489717  NP000444540  20200329    TMAX  ...       S      NaN              NP\n",
              "7489719  NP000444540  20200329    PRCP  ...       S      NaN              NP\n",
              "\n",
              "[277 rows x 9 columns]>"
            ]
          },
          "metadata": {
            "tags": []
          },
          "execution_count": 10
        }
      ]
    },
    {
      "cell_type": "code",
      "metadata": {
        "id": "H5PFUgL-axip",
        "colab_type": "code",
        "colab": {}
      },
      "source": [
        "#remove date before January 20\n",
        "noaa_daily_tempmax_percep_after_jan20=noaa_daily_tempmax_percep.drop(noaa_daily_tempmax_percep[noaa_daily_tempmax_percep['DateStr']<20200120].index)"
      ],
      "execution_count": 0,
      "outputs": []
    },
    {
      "cell_type": "code",
      "metadata": {
        "id": "2_nfCpqJFS0v",
        "colab_type": "code",
        "colab": {
          "base_uri": "https://localhost:8080/",
          "height": 34
        },
        "outputId": "907bdbe9-4ef3-409e-c84b-30f955842fbc"
      },
      "source": [
        "noaa_daily_tempmax_percep_after_jan20.shape"
      ],
      "execution_count": 12,
      "outputs": [
        {
          "output_type": "execute_result",
          "data": {
            "text/plain": [
              "(2414053, 9)"
            ]
          },
          "metadata": {
            "tags": []
          },
          "execution_count": 12
        }
      ]
    },
    {
      "cell_type": "markdown",
      "metadata": {
        "id": "BDNMBXmwlZwF",
        "colab_type": "text"
      },
      "source": [
        "# PULL FIPSCountry Code from the isocode in google drvie"
      ]
    },
    {
      "cell_type": "code",
      "metadata": {
        "id": "laqm5Dvimtse",
        "colab_type": "code",
        "outputId": "29c4e77d-cffd-4bfc-c00b-824331f75bf3",
        "colab": {
          "base_uri": "https://localhost:8080/",
          "height": 255
        }
      },
      "source": [
        "fipscountrycode=pd.read_csv(\"/content/sample_data/fips-10-4-to-iso-country-codes.csv\")\n",
        "fipscountrycode.head"
      ],
      "execution_count": 14,
      "outputs": [
        {
          "output_type": "execute_result",
          "data": {
            "text/plain": [
              "<bound method NDFrame.head of     FIPS 10-4 ISO 3166            Name\n",
              "0          AF       AF     Afghanistan\n",
              "1          AX        -        Akrotiri\n",
              "2          AL       AL         Albania\n",
              "3          AG       DZ         Algeria\n",
              "4          AQ       AS  American Samoa\n",
              "..        ...      ...             ...\n",
              "274         -        -           World\n",
              "275        YM       YE           Yemen\n",
              "276         -        -           Zaire\n",
              "277        ZA       ZM          Zambia\n",
              "278        ZI       ZW        Zimbabwe\n",
              "\n",
              "[279 rows x 3 columns]>"
            ]
          },
          "metadata": {
            "tags": []
          },
          "execution_count": 14
        }
      ]
    },
    {
      "cell_type": "code",
      "metadata": {
        "id": "vjAZtD0yppa7",
        "colab_type": "code",
        "outputId": "da08085b-f1c7-46be-f693-d59f9b7a6281",
        "colab": {
          "base_uri": "https://localhost:8080/",
          "height": 221
        }
      },
      "source": [
        "fipscountrycode[\"FIPS 10-4\"]"
      ],
      "execution_count": 0,
      "outputs": [
        {
          "output_type": "execute_result",
          "data": {
            "text/plain": [
              "0      AF\n",
              "1      AX\n",
              "2      AL\n",
              "3      AG\n",
              "4      AQ\n",
              "       ..\n",
              "274     -\n",
              "275    YM\n",
              "276     -\n",
              "277    ZA\n",
              "278    ZI\n",
              "Name: FIPS 10-4, Length: 279, dtype: object"
            ]
          },
          "metadata": {
            "tags": []
          },
          "execution_count": 37
        }
      ]
    },
    {
      "cell_type": "code",
      "metadata": {
        "id": "_I8avBbBrJAg",
        "colab_type": "code",
        "colab": {}
      },
      "source": [
        "#Create a lookup dicitionary that maps the fipscode to country name\n",
        "d = fipscountrycode.set_index('FIPS 10-4')['Name'].to_dict()"
      ],
      "execution_count": 0,
      "outputs": []
    },
    {
      "cell_type": "code",
      "metadata": {
        "id": "wMZhrTCZsHPC",
        "colab_type": "code",
        "outputId": "5ff646dc-22ed-4d8a-a2fe-2a7b82a02ea9",
        "colab": {
          "base_uri": "https://localhost:8080/",
          "height": 54
        }
      },
      "source": [
        "print(d)"
      ],
      "execution_count": 0,
      "outputs": [
        {
          "output_type": "stream",
          "text": [
            "{'AF': 'Afghanistan', 'AX': 'Akrotiri', 'AL': 'Albania', 'AG': 'Algeria', 'AQ': 'American Samoa', 'AN': 'Andorra', 'AO': 'Angola', 'AV': 'Anguilla', 'AY': 'Antarctica', 'AC': 'Antigua and Barbuda', 'AR': 'Argentina', 'AM': 'Armenia', 'AA': 'Aruba', 'AT': 'Ashmore and Cartier Islands', 'AS': 'Australia', 'AU': 'Austria', 'AJ': 'Azerbaijan', 'BF': 'Bahamas, The', 'BA': 'Bahrain', 'FQ': 'Baker Island', 'BG': 'Bangladesh', 'BB': 'Barbados', 'BS': 'Bassas da India', 'BO': 'Belarus', 'BE': 'Belgium', 'BH': 'Belize', 'BN': 'Benin', 'BD': 'Bermuda', 'BT': 'Bhutan', 'BL': 'Bolivia', 'BK': 'Bosnia and Herzegovina', 'BC': 'Botswana', 'BV': 'Bouvet Island', 'BR': 'Brazil', 'IO': 'British Indian Ocean Territory', 'BX': 'Brunei', 'BU': 'Bulgaria', 'UV': 'Burkina Faso', 'BM': 'Myanmar', 'BY': 'Burundi', 'CB': 'Cambodia', 'CM': 'Cameroon', 'CA': 'Canada', 'CV': 'Cape Verde', 'CJ': 'Cayman Islands', 'CT': 'Central African Republic', 'CD': 'Chad', 'CI': 'Chile', 'CH': 'China', 'KT': 'Christmas Island', 'IP': 'Clipperton Island', 'CK': 'Cocos (Keeling) Islands', 'CO': 'Colombia', 'CN': 'Comoros', 'CG': 'Congo, Democratic Republic of the', 'CF': 'Congo, Republic of the', 'CW': 'Cook Islands', 'CR': 'Coral Sea Islands', 'CS': 'Costa Rica', 'IV': \"Cote d'Ivoire\", 'HR': 'Croatia', 'CU': 'Cuba', 'UC': 'Curacao', 'CY': 'Cyprus', 'EZ': 'Czech Republic', 'DA': 'Denmark', 'DX': 'Dhekelia', 'DJ': 'Djibouti', 'DO': 'Dominica', 'DR': 'Dominican Republic', 'EC': 'Ecuador', 'EG': 'Egypt', 'ES': 'El Salvador', 'EK': 'Equatorial Guinea', 'ER': 'Eritrea', 'EN': 'Estonia', 'ET': 'Ethiopia', 'PJ': 'Etorofu, Habomai, Kunashiri, and Shikotan Islands', 'EU': 'Europa Island', 'FK': 'Falkland Islands (Islas Malvinas)', 'FO': 'Faroe Islands', 'FJ': 'Fiji', 'FI': 'Finland', 'FR': 'France', '-': 'Zaire', 'FG': 'French Guiana', 'FP': 'French Polynesia', 'FS': 'French Southern and Antarctic Lands', 'GB': 'Gabon', 'GA': 'Gambia, The', 'GZ': 'Gaza Strip', 'GG': 'Georgia', 'GM': 'Germany', 'GH': 'Ghana', 'GI': 'Gibraltar', 'GO': 'Glorioso Islands', 'GR': 'Greece', 'GL': 'Greenland', 'GJ': 'Grenada', 'GP': 'Guadeloupe', 'GQ': 'Guam', 'GT': 'Guatemala', 'GK': 'Guernsey', 'GV': 'Guinea', 'PU': 'Guinea-Bissau', 'GY': 'Guyana', 'HA': 'Haiti', 'HM': 'Heard Island and McDonald Islands', 'HO': 'Honduras', 'HK': 'Hong Kong', 'HQ': 'Howland Island', 'HU': 'Hungary', 'IC': 'Iceland', 'IN': 'India', 'ID': 'Indonesia', 'IR': 'Iran', 'IZ': 'Iraq', 'EI': 'Ireland', 'IM': 'Isle of Man', 'IS': 'Israel', 'IT': 'Italy', 'JM': 'Jamaica', 'JN': 'Jan Mayen', 'JA': 'Japan', 'DQ': 'Jarvis Island', 'JE': 'Jersey', 'JQ': 'Johnston Atoll', 'JO': 'Jordan', 'JU': 'Juan de Nova Island', 'KZ': 'Kazakhstan', 'KE': 'Kenya', 'KQ': 'Kingman Reef', 'KR': 'Kiribati', 'KN': 'Korea, North', 'KS': 'Korea, South', 'KV': 'Kosovo', 'KU': 'Kuwait', 'KG': 'Kyrgyzstan', 'LA': 'Laos', 'LG': 'Latvia', 'LE': 'Lebanon', 'LT': 'Lesotho', 'LI': 'Liberia', 'LY': 'Libya', 'LS': 'Liechtenstein', 'LH': 'Lithuania', 'LU': 'Luxembourg', 'MC': 'Macau', 'MK': 'Macedonia', 'MA': 'Madagascar', 'MI': 'Malawi', 'MY': 'Malaysia', 'MV': 'Maldives', 'ML': 'Mali', 'MT': 'Malta', 'RM': 'Marshall Islands', 'MB': 'Martinique', 'MR': 'Mauritania', 'MP': 'Mauritius', 'MF': 'Mayotte', 'MX': 'Mexico', 'FM': 'Micronesia, Federated States of', 'MQ': 'Midway Islands', 'MD': 'Moldova', 'MN': 'Monaco', 'MG': 'Mongolia', 'MJ': 'Montenegro', 'MH': 'Montserrat', 'MO': 'Morocco', 'MZ': 'Mozambique', 'WA': 'Namibia', 'NR': 'Nauru', 'BQ': 'Navassa Island', 'NP': 'Nepal', 'NL': 'Netherlands', 'NC': 'New Caledonia', 'NZ': 'New Zealand', 'NU': 'Nicaragua', 'NG': 'Niger', 'NI': 'Nigeria', 'NE': 'Niue', 'NF': 'Norfolk Island', 'CQ': 'Northern Mariana Islands', 'NO': 'Norway', 'MU': 'Oman', 'PK': 'Pakistan', 'PS': 'Palau', 'LQ': 'Palmyra Atoll', 'PM': 'Panama', 'PP': 'Papua New Guinea', 'PF': 'Paracel Islands', 'PA': 'Paraguay', 'PE': 'Peru', 'RP': 'Philippines', 'PC': 'Pitcairn Islands', 'PL': 'Poland', 'PO': 'Portugal', 'RQ': 'Puerto Rico', 'QA': 'Qatar', 'RE': 'Reunion', 'RO': 'Romania', 'RS': 'Russia', 'RW': 'Rwanda', 'TB': 'Saint Barthelemy', 'SH': 'Saint Helena', 'SC': 'Saint Kitts and Nevis', 'ST': 'Saint Lucia', 'RN': 'Saint Martin', 'SB': 'Saint Pierre and Miquelon', 'VC': 'Saint Vincent and the Grenadines', 'WS': 'Samoa', 'SM': 'San Marino', 'TP': 'Sao Tome and Principe', 'SA': 'Saudi Arabia', 'SG': 'Senegal', 'RI': 'Serbia', 'SE': 'Seychelles', 'SL': 'Sierra Leone', 'SN': 'Singapore', 'NN': 'Sint Maarten', 'LO': 'Slovakia', 'SI': 'Slovenia', 'BP': 'Solomon Islands', 'SO': 'Somalia', 'SF': 'South Africa', 'SX': 'South Georgia and the Islands', 'OD': 'South Sudan', 'SP': 'Spain', 'PG': 'Spratly Islands', 'CE': 'Sri Lanka', 'SU': 'Sudan', 'NS': 'Suriname', 'SV': 'Svalbard', 'WZ': 'Swaziland', 'SW': 'Sweden', 'SZ': 'Switzerland', 'SY': 'Syria', 'TW': 'Taiwan', 'TI': 'Tajikistan', 'TZ': 'Tanzania', 'TH': 'Thailand', 'TT': 'Timor-Leste', 'TO': 'Togo', 'TL': 'Tokelau', 'TN': 'Tonga', 'TD': 'Trinidad and Tobago', 'TE': 'Tromelin Island', 'TS': 'Tunisia', 'TU': 'Turkey', 'TX': 'Turkmenistan', 'TK': 'Turks and Caicos Islands', 'TV': 'Tuvalu', 'UG': 'Uganda', 'UP': 'Ukraine', 'AE': 'United Arab Emirates', 'UK': 'United Kingdom', 'US': 'United States', 'UY': 'Uruguay', 'UZ': 'Uzbekistan', 'NH': 'Vanuatu', 'VT': 'Vatican City', 'VE': 'Venezuela', 'VM': 'Vietnam', 'VI': 'Virgin Islands, British', 'VQ': 'Virgin Islands, U.S.', 'WQ': 'Wake Island', 'WF': 'Wallis and Futuna', 'WE': 'West Bank', 'WI': 'Western Sahara', 'YM': 'Yemen', 'ZA': 'Zambia', 'ZI': 'Zimbabwe'}\n"
          ],
          "name": "stdout"
        }
      ]
    },
    {
      "cell_type": "code",
      "metadata": {
        "id": "sxmngl1Jsm73",
        "colab_type": "code",
        "colab": {}
      },
      "source": [
        "# Create New Country_Name field in NOAA dataset by looking up FIPSCode from the dictionary\n",
        "noaa_daily_tempmax_percep_after_jan20['country_name'] = noaa_daily_tempmax_percep_after_jan20['FIPSCountryCode'].map(d)"
      ],
      "execution_count": 0,
      "outputs": []
    },
    {
      "cell_type": "code",
      "metadata": {
        "id": "jKZj8B5ys4qA",
        "colab_type": "code",
        "outputId": "41e5dffc-a044-404a-abce-837e584299ee",
        "colab": {
          "base_uri": "https://localhost:8080/",
          "height": 419
        }
      },
      "source": [
        "noaa_daily_tempmax_percep_after_jan20[(noaa_daily_tempmax_percep_after_jan20['FIPSCountryCode'] =='NP')]"
      ],
      "execution_count": 18,
      "outputs": [
        {
          "output_type": "execute_result",
          "data": {
            "text/html": [
              "<div>\n",
              "<style scoped>\n",
              "    .dataframe tbody tr th:only-of-type {\n",
              "        vertical-align: middle;\n",
              "    }\n",
              "\n",
              "    .dataframe tbody tr th {\n",
              "        vertical-align: top;\n",
              "    }\n",
              "\n",
              "    .dataframe thead th {\n",
              "        text-align: right;\n",
              "    }\n",
              "</style>\n",
              "<table border=\"1\" class=\"dataframe\">\n",
              "  <thead>\n",
              "    <tr style=\"text-align: right;\">\n",
              "      <th></th>\n",
              "      <th>StationId</th>\n",
              "      <th>DateStr</th>\n",
              "      <th>Element</th>\n",
              "      <th>Data</th>\n",
              "      <th>M_Flag</th>\n",
              "      <th>Q_Flag</th>\n",
              "      <th>S_flag</th>\n",
              "      <th>OBS_Time</th>\n",
              "      <th>FIPSCountryCode</th>\n",
              "      <th>country_name</th>\n",
              "    </tr>\n",
              "  </thead>\n",
              "  <tbody>\n",
              "    <tr>\n",
              "      <th>1810340</th>\n",
              "      <td>NPM00044477</td>\n",
              "      <td>20200120</td>\n",
              "      <td>TMAX</td>\n",
              "      <td>184</td>\n",
              "      <td>NaN</td>\n",
              "      <td>NaN</td>\n",
              "      <td>S</td>\n",
              "      <td>NaN</td>\n",
              "      <td>NP</td>\n",
              "      <td>Nepal</td>\n",
              "    </tr>\n",
              "    <tr>\n",
              "      <th>1810341</th>\n",
              "      <td>NPM00044477</td>\n",
              "      <td>20200120</td>\n",
              "      <td>PRCP</td>\n",
              "      <td>0</td>\n",
              "      <td>NaN</td>\n",
              "      <td>NaN</td>\n",
              "      <td>S</td>\n",
              "      <td>NaN</td>\n",
              "      <td>NP</td>\n",
              "      <td>Nepal</td>\n",
              "    </tr>\n",
              "    <tr>\n",
              "      <th>1845020</th>\n",
              "      <td>NP000444540</td>\n",
              "      <td>20200120</td>\n",
              "      <td>TMAX</td>\n",
              "      <td>172</td>\n",
              "      <td>NaN</td>\n",
              "      <td>NaN</td>\n",
              "      <td>S</td>\n",
              "      <td>NaN</td>\n",
              "      <td>NP</td>\n",
              "      <td>Nepal</td>\n",
              "    </tr>\n",
              "    <tr>\n",
              "      <th>1845021</th>\n",
              "      <td>NP000444540</td>\n",
              "      <td>20200120</td>\n",
              "      <td>PRCP</td>\n",
              "      <td>0</td>\n",
              "      <td>NaN</td>\n",
              "      <td>NaN</td>\n",
              "      <td>S</td>\n",
              "      <td>NaN</td>\n",
              "      <td>NP</td>\n",
              "      <td>Nepal</td>\n",
              "    </tr>\n",
              "    <tr>\n",
              "      <th>1903187</th>\n",
              "      <td>NPM00044477</td>\n",
              "      <td>20200121</td>\n",
              "      <td>TMAX</td>\n",
              "      <td>186</td>\n",
              "      <td>NaN</td>\n",
              "      <td>NaN</td>\n",
              "      <td>S</td>\n",
              "      <td>NaN</td>\n",
              "      <td>NP</td>\n",
              "      <td>Nepal</td>\n",
              "    </tr>\n",
              "    <tr>\n",
              "      <th>...</th>\n",
              "      <td>...</td>\n",
              "      <td>...</td>\n",
              "      <td>...</td>\n",
              "      <td>...</td>\n",
              "      <td>...</td>\n",
              "      <td>...</td>\n",
              "      <td>...</td>\n",
              "      <td>...</td>\n",
              "      <td>...</td>\n",
              "      <td>...</td>\n",
              "    </tr>\n",
              "    <tr>\n",
              "      <th>7423579</th>\n",
              "      <td>NP000444540</td>\n",
              "      <td>20200328</td>\n",
              "      <td>PRCP</td>\n",
              "      <td>33</td>\n",
              "      <td>NaN</td>\n",
              "      <td>NaN</td>\n",
              "      <td>S</td>\n",
              "      <td>NaN</td>\n",
              "      <td>NP</td>\n",
              "      <td>Nepal</td>\n",
              "    </tr>\n",
              "    <tr>\n",
              "      <th>7464709</th>\n",
              "      <td>NPM00044477</td>\n",
              "      <td>20200329</td>\n",
              "      <td>TMAX</td>\n",
              "      <td>270</td>\n",
              "      <td>NaN</td>\n",
              "      <td>NaN</td>\n",
              "      <td>S</td>\n",
              "      <td>NaN</td>\n",
              "      <td>NP</td>\n",
              "      <td>Nepal</td>\n",
              "    </tr>\n",
              "    <tr>\n",
              "      <th>7464711</th>\n",
              "      <td>NPM00044477</td>\n",
              "      <td>20200329</td>\n",
              "      <td>PRCP</td>\n",
              "      <td>0</td>\n",
              "      <td>NaN</td>\n",
              "      <td>NaN</td>\n",
              "      <td>S</td>\n",
              "      <td>NaN</td>\n",
              "      <td>NP</td>\n",
              "      <td>Nepal</td>\n",
              "    </tr>\n",
              "    <tr>\n",
              "      <th>7489717</th>\n",
              "      <td>NP000444540</td>\n",
              "      <td>20200329</td>\n",
              "      <td>TMAX</td>\n",
              "      <td>299</td>\n",
              "      <td>NaN</td>\n",
              "      <td>NaN</td>\n",
              "      <td>S</td>\n",
              "      <td>NaN</td>\n",
              "      <td>NP</td>\n",
              "      <td>Nepal</td>\n",
              "    </tr>\n",
              "    <tr>\n",
              "      <th>7489719</th>\n",
              "      <td>NP000444540</td>\n",
              "      <td>20200329</td>\n",
              "      <td>PRCP</td>\n",
              "      <td>0</td>\n",
              "      <td>NaN</td>\n",
              "      <td>NaN</td>\n",
              "      <td>S</td>\n",
              "      <td>NaN</td>\n",
              "      <td>NP</td>\n",
              "      <td>Nepal</td>\n",
              "    </tr>\n",
              "  </tbody>\n",
              "</table>\n",
              "<p>223 rows × 10 columns</p>\n",
              "</div>"
            ],
            "text/plain": [
              "           StationId   DateStr Element  ...  OBS_Time FIPSCountryCode country_name\n",
              "1810340  NPM00044477  20200120    TMAX  ...       NaN              NP        Nepal\n",
              "1810341  NPM00044477  20200120    PRCP  ...       NaN              NP        Nepal\n",
              "1845020  NP000444540  20200120    TMAX  ...       NaN              NP        Nepal\n",
              "1845021  NP000444540  20200120    PRCP  ...       NaN              NP        Nepal\n",
              "1903187  NPM00044477  20200121    TMAX  ...       NaN              NP        Nepal\n",
              "...              ...       ...     ...  ...       ...             ...          ...\n",
              "7423579  NP000444540  20200328    PRCP  ...       NaN              NP        Nepal\n",
              "7464709  NPM00044477  20200329    TMAX  ...       NaN              NP        Nepal\n",
              "7464711  NPM00044477  20200329    PRCP  ...       NaN              NP        Nepal\n",
              "7489717  NP000444540  20200329    TMAX  ...       NaN              NP        Nepal\n",
              "7489719  NP000444540  20200329    PRCP  ...       NaN              NP        Nepal\n",
              "\n",
              "[223 rows x 10 columns]"
            ]
          },
          "metadata": {
            "tags": []
          },
          "execution_count": 18
        }
      ]
    },
    {
      "cell_type": "code",
      "metadata": {
        "id": "nU8tKDI8_vuy",
        "colab_type": "code",
        "colab": {}
      },
      "source": [
        "#Create a Column that holds the Precipitation Data in NOAA table\n",
        "\n",
        "noaa_daily_tempmax_percep_after_jan20[\"Precipitation\"]=np.where(noaa_daily_tempmax_percep_after_jan20['Element']=='PRCP', noaa_daily_tempmax_percep_after_jan20[\"Data\"], '0')"
      ],
      "execution_count": 0,
      "outputs": []
    },
    {
      "cell_type": "code",
      "metadata": {
        "id": "rsG0QiqCCTG9",
        "colab_type": "code",
        "colab": {}
      },
      "source": [
        "#Create a Column Temperature that holds the TemperatureMax in NOAA table\n",
        "noaa_daily_tempmax_percep_after_jan20[\"Temperature\"]=np.where(noaa_daily_tempmax_percep_after_jan20['Element']=='TMAX', noaa_daily_tempmax_percep_after_jan20[\"Data\"], '0')"
      ],
      "execution_count": 0,
      "outputs": []
    },
    {
      "cell_type": "code",
      "metadata": {
        "id": "OJD9CM8COwku",
        "colab_type": "code",
        "colab": {}
      },
      "source": [
        "noaa_daily_tempmax_percep_after_jan20=noaa_daily_tempmax_percep_after_jan20.drop(['Element','Data','M_Flag','Q_Flag','S_flag','OBS_Time'], axis = 1) "
      ],
      "execution_count": 0,
      "outputs": []
    },
    {
      "cell_type": "code",
      "metadata": {
        "id": "IL2hOfqKsFKt",
        "colab_type": "code",
        "colab": {}
      },
      "source": [
        ""
      ],
      "execution_count": 0,
      "outputs": []
    },
    {
      "cell_type": "code",
      "metadata": {
        "id": "1kAepU_dZVOE",
        "colab_type": "code",
        "colab": {}
      },
      "source": [
        "#Precipitation Data is in String convert it into float\n",
        "noaa_daily_tempmax_percep_after_jan20['Precipitation'] = noaa_daily_tempmax_percep_after_jan20['Precipitation'].astype(float)"
      ],
      "execution_count": 0,
      "outputs": []
    },
    {
      "cell_type": "code",
      "metadata": {
        "id": "dbzNzRJ0ZmGo",
        "colab_type": "code",
        "colab": {}
      },
      "source": [
        "#Precipitation Data is in String convert it into float\n",
        "noaa_daily_tempmax_percep_after_jan20['Temperature'] = noaa_daily_tempmax_percep_after_jan20['Temperature'].astype(float)"
      ],
      "execution_count": 0,
      "outputs": []
    },
    {
      "cell_type": "code",
      "metadata": {
        "id": "axCdySwJRPCo",
        "colab_type": "code",
        "colab": {}
      },
      "source": [
        "#Note Group By should have clause as_index=False otherwise it will change the shape of the dataframe\n",
        "# This is for merging the Precipitation and Temperature data in  rows with same stationid and same date \n",
        "noaa_daily_tempmax_percep_after_jan20=noaa_daily_tempmax_percep_after_jan20.groupby(['StationId', 'DateStr','FIPSCountryCode','country_name'], as_index=False).agg('sum')"
      ],
      "execution_count": 0,
      "outputs": []
    },
    {
      "cell_type": "code",
      "metadata": {
        "id": "QIIQ1sRDblWS",
        "colab_type": "code",
        "outputId": "c950cb81-fdb3-4322-97d4-4e9c3240e2b1",
        "colab": {
          "base_uri": "https://localhost:8080/",
          "height": 419
        }
      },
      "source": [
        "noaa_daily_tempmax_percep_after_jan20[(noaa_daily_tempmax_percep_after_jan20['FIPSCountryCode'] =='NP')]"
      ],
      "execution_count": 26,
      "outputs": [
        {
          "output_type": "execute_result",
          "data": {
            "text/html": [
              "<div>\n",
              "<style scoped>\n",
              "    .dataframe tbody tr th:only-of-type {\n",
              "        vertical-align: middle;\n",
              "    }\n",
              "\n",
              "    .dataframe tbody tr th {\n",
              "        vertical-align: top;\n",
              "    }\n",
              "\n",
              "    .dataframe thead th {\n",
              "        text-align: right;\n",
              "    }\n",
              "</style>\n",
              "<table border=\"1\" class=\"dataframe\">\n",
              "  <thead>\n",
              "    <tr style=\"text-align: right;\">\n",
              "      <th></th>\n",
              "      <th>StationId</th>\n",
              "      <th>DateStr</th>\n",
              "      <th>FIPSCountryCode</th>\n",
              "      <th>country_name</th>\n",
              "      <th>Precipitation</th>\n",
              "      <th>Temperature</th>\n",
              "    </tr>\n",
              "  </thead>\n",
              "  <tbody>\n",
              "    <tr>\n",
              "      <th>425345</th>\n",
              "      <td>NP000444540</td>\n",
              "      <td>20200120</td>\n",
              "      <td>NP</td>\n",
              "      <td>Nepal</td>\n",
              "      <td>0.0</td>\n",
              "      <td>172.0</td>\n",
              "    </tr>\n",
              "    <tr>\n",
              "      <th>425346</th>\n",
              "      <td>NP000444540</td>\n",
              "      <td>20200121</td>\n",
              "      <td>NP</td>\n",
              "      <td>Nepal</td>\n",
              "      <td>0.0</td>\n",
              "      <td>0.0</td>\n",
              "    </tr>\n",
              "    <tr>\n",
              "      <th>425347</th>\n",
              "      <td>NP000444540</td>\n",
              "      <td>20200122</td>\n",
              "      <td>NP</td>\n",
              "      <td>Nepal</td>\n",
              "      <td>0.0</td>\n",
              "      <td>190.0</td>\n",
              "    </tr>\n",
              "    <tr>\n",
              "      <th>425348</th>\n",
              "      <td>NP000444540</td>\n",
              "      <td>20200123</td>\n",
              "      <td>NP</td>\n",
              "      <td>Nepal</td>\n",
              "      <td>0.0</td>\n",
              "      <td>185.0</td>\n",
              "    </tr>\n",
              "    <tr>\n",
              "      <th>425349</th>\n",
              "      <td>NP000444540</td>\n",
              "      <td>20200124</td>\n",
              "      <td>NP</td>\n",
              "      <td>Nepal</td>\n",
              "      <td>0.0</td>\n",
              "      <td>157.0</td>\n",
              "    </tr>\n",
              "    <tr>\n",
              "      <th>...</th>\n",
              "      <td>...</td>\n",
              "      <td>...</td>\n",
              "      <td>...</td>\n",
              "      <td>...</td>\n",
              "      <td>...</td>\n",
              "      <td>...</td>\n",
              "    </tr>\n",
              "    <tr>\n",
              "      <th>425459</th>\n",
              "      <td>NPM00044477</td>\n",
              "      <td>20200325</td>\n",
              "      <td>NP</td>\n",
              "      <td>Nepal</td>\n",
              "      <td>0.0</td>\n",
              "      <td>254.0</td>\n",
              "    </tr>\n",
              "    <tr>\n",
              "      <th>425460</th>\n",
              "      <td>NPM00044477</td>\n",
              "      <td>20200326</td>\n",
              "      <td>NP</td>\n",
              "      <td>Nepal</td>\n",
              "      <td>56.0</td>\n",
              "      <td>251.0</td>\n",
              "    </tr>\n",
              "    <tr>\n",
              "      <th>425461</th>\n",
              "      <td>NPM00044477</td>\n",
              "      <td>20200327</td>\n",
              "      <td>NP</td>\n",
              "      <td>Nepal</td>\n",
              "      <td>0.0</td>\n",
              "      <td>251.0</td>\n",
              "    </tr>\n",
              "    <tr>\n",
              "      <th>425462</th>\n",
              "      <td>NPM00044477</td>\n",
              "      <td>20200328</td>\n",
              "      <td>NP</td>\n",
              "      <td>Nepal</td>\n",
              "      <td>0.0</td>\n",
              "      <td>270.0</td>\n",
              "    </tr>\n",
              "    <tr>\n",
              "      <th>425463</th>\n",
              "      <td>NPM00044477</td>\n",
              "      <td>20200329</td>\n",
              "      <td>NP</td>\n",
              "      <td>Nepal</td>\n",
              "      <td>0.0</td>\n",
              "      <td>270.0</td>\n",
              "    </tr>\n",
              "  </tbody>\n",
              "</table>\n",
              "<p>119 rows × 6 columns</p>\n",
              "</div>"
            ],
            "text/plain": [
              "          StationId   DateStr  ... Precipitation Temperature\n",
              "425345  NP000444540  20200120  ...           0.0       172.0\n",
              "425346  NP000444540  20200121  ...           0.0         0.0\n",
              "425347  NP000444540  20200122  ...           0.0       190.0\n",
              "425348  NP000444540  20200123  ...           0.0       185.0\n",
              "425349  NP000444540  20200124  ...           0.0       157.0\n",
              "...             ...       ...  ...           ...         ...\n",
              "425459  NPM00044477  20200325  ...           0.0       254.0\n",
              "425460  NPM00044477  20200326  ...          56.0       251.0\n",
              "425461  NPM00044477  20200327  ...           0.0       251.0\n",
              "425462  NPM00044477  20200328  ...           0.0       270.0\n",
              "425463  NPM00044477  20200329  ...           0.0       270.0\n",
              "\n",
              "[119 rows x 6 columns]"
            ]
          },
          "metadata": {
            "tags": []
          },
          "execution_count": 26
        }
      ]
    },
    {
      "cell_type": "code",
      "metadata": {
        "id": "EPzZ0V3IcP7-",
        "colab_type": "code",
        "outputId": "05f428bf-0a0e-4dbe-ae8b-ea70b832dc50",
        "colab": {
          "base_uri": "https://localhost:8080/",
          "height": 1000
        }
      },
      "source": [
        "noaa_daily_tempmax_percep_after_jan20[(noaa_daily_tempmax_percep_after_jan20['FIPSCountryCode'] =='NP')].tail(50)"
      ],
      "execution_count": 27,
      "outputs": [
        {
          "output_type": "execute_result",
          "data": {
            "text/html": [
              "<div>\n",
              "<style scoped>\n",
              "    .dataframe tbody tr th:only-of-type {\n",
              "        vertical-align: middle;\n",
              "    }\n",
              "\n",
              "    .dataframe tbody tr th {\n",
              "        vertical-align: top;\n",
              "    }\n",
              "\n",
              "    .dataframe thead th {\n",
              "        text-align: right;\n",
              "    }\n",
              "</style>\n",
              "<table border=\"1\" class=\"dataframe\">\n",
              "  <thead>\n",
              "    <tr style=\"text-align: right;\">\n",
              "      <th></th>\n",
              "      <th>StationId</th>\n",
              "      <th>DateStr</th>\n",
              "      <th>FIPSCountryCode</th>\n",
              "      <th>country_name</th>\n",
              "      <th>Precipitation</th>\n",
              "      <th>Temperature</th>\n",
              "    </tr>\n",
              "  </thead>\n",
              "  <tbody>\n",
              "    <tr>\n",
              "      <th>425414</th>\n",
              "      <td>NPM00044477</td>\n",
              "      <td>20200124</td>\n",
              "      <td>NP</td>\n",
              "      <td>Nepal</td>\n",
              "      <td>0.0</td>\n",
              "      <td>160.0</td>\n",
              "    </tr>\n",
              "    <tr>\n",
              "      <th>425415</th>\n",
              "      <td>NPM00044477</td>\n",
              "      <td>20200125</td>\n",
              "      <td>NP</td>\n",
              "      <td>Nepal</td>\n",
              "      <td>0.0</td>\n",
              "      <td>175.0</td>\n",
              "    </tr>\n",
              "    <tr>\n",
              "      <th>425416</th>\n",
              "      <td>NPM00044477</td>\n",
              "      <td>20200126</td>\n",
              "      <td>NP</td>\n",
              "      <td>Nepal</td>\n",
              "      <td>0.0</td>\n",
              "      <td>174.0</td>\n",
              "    </tr>\n",
              "    <tr>\n",
              "      <th>425417</th>\n",
              "      <td>NPM00044477</td>\n",
              "      <td>20200127</td>\n",
              "      <td>NP</td>\n",
              "      <td>Nepal</td>\n",
              "      <td>0.0</td>\n",
              "      <td>185.0</td>\n",
              "    </tr>\n",
              "    <tr>\n",
              "      <th>425418</th>\n",
              "      <td>NPM00044477</td>\n",
              "      <td>20200128</td>\n",
              "      <td>NP</td>\n",
              "      <td>Nepal</td>\n",
              "      <td>0.0</td>\n",
              "      <td>180.0</td>\n",
              "    </tr>\n",
              "    <tr>\n",
              "      <th>425419</th>\n",
              "      <td>NPM00044477</td>\n",
              "      <td>20200129</td>\n",
              "      <td>NP</td>\n",
              "      <td>Nepal</td>\n",
              "      <td>0.0</td>\n",
              "      <td>190.0</td>\n",
              "    </tr>\n",
              "    <tr>\n",
              "      <th>425420</th>\n",
              "      <td>NPM00044477</td>\n",
              "      <td>20200130</td>\n",
              "      <td>NP</td>\n",
              "      <td>Nepal</td>\n",
              "      <td>0.0</td>\n",
              "      <td>183.0</td>\n",
              "    </tr>\n",
              "    <tr>\n",
              "      <th>425421</th>\n",
              "      <td>NPM00044477</td>\n",
              "      <td>20200131</td>\n",
              "      <td>NP</td>\n",
              "      <td>Nepal</td>\n",
              "      <td>0.0</td>\n",
              "      <td>186.0</td>\n",
              "    </tr>\n",
              "    <tr>\n",
              "      <th>425422</th>\n",
              "      <td>NPM00044477</td>\n",
              "      <td>20200201</td>\n",
              "      <td>NP</td>\n",
              "      <td>Nepal</td>\n",
              "      <td>0.0</td>\n",
              "      <td>170.0</td>\n",
              "    </tr>\n",
              "    <tr>\n",
              "      <th>425423</th>\n",
              "      <td>NPM00044477</td>\n",
              "      <td>20200202</td>\n",
              "      <td>NP</td>\n",
              "      <td>Nepal</td>\n",
              "      <td>0.0</td>\n",
              "      <td>181.0</td>\n",
              "    </tr>\n",
              "    <tr>\n",
              "      <th>425424</th>\n",
              "      <td>NPM00044477</td>\n",
              "      <td>20200203</td>\n",
              "      <td>NP</td>\n",
              "      <td>Nepal</td>\n",
              "      <td>0.0</td>\n",
              "      <td>180.0</td>\n",
              "    </tr>\n",
              "    <tr>\n",
              "      <th>425425</th>\n",
              "      <td>NPM00044477</td>\n",
              "      <td>20200206</td>\n",
              "      <td>NP</td>\n",
              "      <td>Nepal</td>\n",
              "      <td>0.0</td>\n",
              "      <td>188.0</td>\n",
              "    </tr>\n",
              "    <tr>\n",
              "      <th>425426</th>\n",
              "      <td>NPM00044477</td>\n",
              "      <td>20200208</td>\n",
              "      <td>NP</td>\n",
              "      <td>Nepal</td>\n",
              "      <td>0.0</td>\n",
              "      <td>188.0</td>\n",
              "    </tr>\n",
              "    <tr>\n",
              "      <th>425427</th>\n",
              "      <td>NPM00044477</td>\n",
              "      <td>20200211</td>\n",
              "      <td>NP</td>\n",
              "      <td>Nepal</td>\n",
              "      <td>0.0</td>\n",
              "      <td>205.0</td>\n",
              "    </tr>\n",
              "    <tr>\n",
              "      <th>425428</th>\n",
              "      <td>NPM00044477</td>\n",
              "      <td>20200212</td>\n",
              "      <td>NP</td>\n",
              "      <td>Nepal</td>\n",
              "      <td>0.0</td>\n",
              "      <td>221.0</td>\n",
              "    </tr>\n",
              "    <tr>\n",
              "      <th>425429</th>\n",
              "      <td>NPM00044477</td>\n",
              "      <td>20200213</td>\n",
              "      <td>NP</td>\n",
              "      <td>Nepal</td>\n",
              "      <td>0.0</td>\n",
              "      <td>220.0</td>\n",
              "    </tr>\n",
              "    <tr>\n",
              "      <th>425430</th>\n",
              "      <td>NPM00044477</td>\n",
              "      <td>20200214</td>\n",
              "      <td>NP</td>\n",
              "      <td>Nepal</td>\n",
              "      <td>0.0</td>\n",
              "      <td>211.0</td>\n",
              "    </tr>\n",
              "    <tr>\n",
              "      <th>425431</th>\n",
              "      <td>NPM00044477</td>\n",
              "      <td>20200215</td>\n",
              "      <td>NP</td>\n",
              "      <td>Nepal</td>\n",
              "      <td>0.0</td>\n",
              "      <td>206.0</td>\n",
              "    </tr>\n",
              "    <tr>\n",
              "      <th>425432</th>\n",
              "      <td>NPM00044477</td>\n",
              "      <td>20200216</td>\n",
              "      <td>NP</td>\n",
              "      <td>Nepal</td>\n",
              "      <td>0.0</td>\n",
              "      <td>215.0</td>\n",
              "    </tr>\n",
              "    <tr>\n",
              "      <th>425433</th>\n",
              "      <td>NPM00044477</td>\n",
              "      <td>20200217</td>\n",
              "      <td>NP</td>\n",
              "      <td>Nepal</td>\n",
              "      <td>0.0</td>\n",
              "      <td>213.0</td>\n",
              "    </tr>\n",
              "    <tr>\n",
              "      <th>425434</th>\n",
              "      <td>NPM00044477</td>\n",
              "      <td>20200220</td>\n",
              "      <td>NP</td>\n",
              "      <td>Nepal</td>\n",
              "      <td>0.0</td>\n",
              "      <td>198.0</td>\n",
              "    </tr>\n",
              "    <tr>\n",
              "      <th>425435</th>\n",
              "      <td>NPM00044477</td>\n",
              "      <td>20200221</td>\n",
              "      <td>NP</td>\n",
              "      <td>Nepal</td>\n",
              "      <td>0.0</td>\n",
              "      <td>211.0</td>\n",
              "    </tr>\n",
              "    <tr>\n",
              "      <th>425436</th>\n",
              "      <td>NPM00044477</td>\n",
              "      <td>20200223</td>\n",
              "      <td>NP</td>\n",
              "      <td>Nepal</td>\n",
              "      <td>0.0</td>\n",
              "      <td>240.0</td>\n",
              "    </tr>\n",
              "    <tr>\n",
              "      <th>425437</th>\n",
              "      <td>NPM00044477</td>\n",
              "      <td>20200224</td>\n",
              "      <td>NP</td>\n",
              "      <td>Nepal</td>\n",
              "      <td>170.0</td>\n",
              "      <td>241.0</td>\n",
              "    </tr>\n",
              "    <tr>\n",
              "      <th>425438</th>\n",
              "      <td>NPM00044477</td>\n",
              "      <td>20200225</td>\n",
              "      <td>NP</td>\n",
              "      <td>Nepal</td>\n",
              "      <td>180.0</td>\n",
              "      <td>230.0</td>\n",
              "    </tr>\n",
              "    <tr>\n",
              "      <th>425439</th>\n",
              "      <td>NPM00044477</td>\n",
              "      <td>20200226</td>\n",
              "      <td>NP</td>\n",
              "      <td>Nepal</td>\n",
              "      <td>267.0</td>\n",
              "      <td>150.0</td>\n",
              "    </tr>\n",
              "    <tr>\n",
              "      <th>425440</th>\n",
              "      <td>NPM00044477</td>\n",
              "      <td>20200227</td>\n",
              "      <td>NP</td>\n",
              "      <td>Nepal</td>\n",
              "      <td>0.0</td>\n",
              "      <td>0.0</td>\n",
              "    </tr>\n",
              "    <tr>\n",
              "      <th>425441</th>\n",
              "      <td>NPM00044477</td>\n",
              "      <td>20200228</td>\n",
              "      <td>NP</td>\n",
              "      <td>Nepal</td>\n",
              "      <td>0.0</td>\n",
              "      <td>215.0</td>\n",
              "    </tr>\n",
              "    <tr>\n",
              "      <th>425442</th>\n",
              "      <td>NPM00044477</td>\n",
              "      <td>20200229</td>\n",
              "      <td>NP</td>\n",
              "      <td>Nepal</td>\n",
              "      <td>0.0</td>\n",
              "      <td>230.0</td>\n",
              "    </tr>\n",
              "    <tr>\n",
              "      <th>425443</th>\n",
              "      <td>NPM00044477</td>\n",
              "      <td>20200301</td>\n",
              "      <td>NP</td>\n",
              "      <td>Nepal</td>\n",
              "      <td>0.0</td>\n",
              "      <td>234.0</td>\n",
              "    </tr>\n",
              "    <tr>\n",
              "      <th>425444</th>\n",
              "      <td>NPM00044477</td>\n",
              "      <td>20200302</td>\n",
              "      <td>NP</td>\n",
              "      <td>Nepal</td>\n",
              "      <td>0.0</td>\n",
              "      <td>235.0</td>\n",
              "    </tr>\n",
              "    <tr>\n",
              "      <th>425445</th>\n",
              "      <td>NPM00044477</td>\n",
              "      <td>20200303</td>\n",
              "      <td>NP</td>\n",
              "      <td>Nepal</td>\n",
              "      <td>0.0</td>\n",
              "      <td>228.0</td>\n",
              "    </tr>\n",
              "    <tr>\n",
              "      <th>425446</th>\n",
              "      <td>NPM00044477</td>\n",
              "      <td>20200304</td>\n",
              "      <td>NP</td>\n",
              "      <td>Nepal</td>\n",
              "      <td>0.0</td>\n",
              "      <td>225.0</td>\n",
              "    </tr>\n",
              "    <tr>\n",
              "      <th>425447</th>\n",
              "      <td>NPM00044477</td>\n",
              "      <td>20200305</td>\n",
              "      <td>NP</td>\n",
              "      <td>Nepal</td>\n",
              "      <td>0.0</td>\n",
              "      <td>230.0</td>\n",
              "    </tr>\n",
              "    <tr>\n",
              "      <th>425448</th>\n",
              "      <td>NPM00044477</td>\n",
              "      <td>20200306</td>\n",
              "      <td>NP</td>\n",
              "      <td>Nepal</td>\n",
              "      <td>0.0</td>\n",
              "      <td>223.0</td>\n",
              "    </tr>\n",
              "    <tr>\n",
              "      <th>425449</th>\n",
              "      <td>NPM00044477</td>\n",
              "      <td>20200307</td>\n",
              "      <td>NP</td>\n",
              "      <td>Nepal</td>\n",
              "      <td>132.0</td>\n",
              "      <td>240.0</td>\n",
              "    </tr>\n",
              "    <tr>\n",
              "      <th>425450</th>\n",
              "      <td>NPM00044477</td>\n",
              "      <td>20200308</td>\n",
              "      <td>NP</td>\n",
              "      <td>Nepal</td>\n",
              "      <td>5.0</td>\n",
              "      <td>205.0</td>\n",
              "    </tr>\n",
              "    <tr>\n",
              "      <th>425451</th>\n",
              "      <td>NPM00044477</td>\n",
              "      <td>20200309</td>\n",
              "      <td>NP</td>\n",
              "      <td>Nepal</td>\n",
              "      <td>0.0</td>\n",
              "      <td>0.0</td>\n",
              "    </tr>\n",
              "    <tr>\n",
              "      <th>425452</th>\n",
              "      <td>NPM00044477</td>\n",
              "      <td>20200310</td>\n",
              "      <td>NP</td>\n",
              "      <td>Nepal</td>\n",
              "      <td>0.0</td>\n",
              "      <td>228.0</td>\n",
              "    </tr>\n",
              "    <tr>\n",
              "      <th>425453</th>\n",
              "      <td>NPM00044477</td>\n",
              "      <td>20200311</td>\n",
              "      <td>NP</td>\n",
              "      <td>Nepal</td>\n",
              "      <td>0.0</td>\n",
              "      <td>236.0</td>\n",
              "    </tr>\n",
              "    <tr>\n",
              "      <th>425454</th>\n",
              "      <td>NPM00044477</td>\n",
              "      <td>20200312</td>\n",
              "      <td>NP</td>\n",
              "      <td>Nepal</td>\n",
              "      <td>0.0</td>\n",
              "      <td>249.0</td>\n",
              "    </tr>\n",
              "    <tr>\n",
              "      <th>425455</th>\n",
              "      <td>NPM00044477</td>\n",
              "      <td>20200315</td>\n",
              "      <td>NP</td>\n",
              "      <td>Nepal</td>\n",
              "      <td>0.0</td>\n",
              "      <td>246.0</td>\n",
              "    </tr>\n",
              "    <tr>\n",
              "      <th>425456</th>\n",
              "      <td>NPM00044477</td>\n",
              "      <td>20200316</td>\n",
              "      <td>NP</td>\n",
              "      <td>Nepal</td>\n",
              "      <td>0.0</td>\n",
              "      <td>242.0</td>\n",
              "    </tr>\n",
              "    <tr>\n",
              "      <th>425457</th>\n",
              "      <td>NPM00044477</td>\n",
              "      <td>20200318</td>\n",
              "      <td>NP</td>\n",
              "      <td>Nepal</td>\n",
              "      <td>0.0</td>\n",
              "      <td>236.0</td>\n",
              "    </tr>\n",
              "    <tr>\n",
              "      <th>425458</th>\n",
              "      <td>NPM00044477</td>\n",
              "      <td>20200324</td>\n",
              "      <td>NP</td>\n",
              "      <td>Nepal</td>\n",
              "      <td>41.0</td>\n",
              "      <td>0.0</td>\n",
              "    </tr>\n",
              "    <tr>\n",
              "      <th>425459</th>\n",
              "      <td>NPM00044477</td>\n",
              "      <td>20200325</td>\n",
              "      <td>NP</td>\n",
              "      <td>Nepal</td>\n",
              "      <td>0.0</td>\n",
              "      <td>254.0</td>\n",
              "    </tr>\n",
              "    <tr>\n",
              "      <th>425460</th>\n",
              "      <td>NPM00044477</td>\n",
              "      <td>20200326</td>\n",
              "      <td>NP</td>\n",
              "      <td>Nepal</td>\n",
              "      <td>56.0</td>\n",
              "      <td>251.0</td>\n",
              "    </tr>\n",
              "    <tr>\n",
              "      <th>425461</th>\n",
              "      <td>NPM00044477</td>\n",
              "      <td>20200327</td>\n",
              "      <td>NP</td>\n",
              "      <td>Nepal</td>\n",
              "      <td>0.0</td>\n",
              "      <td>251.0</td>\n",
              "    </tr>\n",
              "    <tr>\n",
              "      <th>425462</th>\n",
              "      <td>NPM00044477</td>\n",
              "      <td>20200328</td>\n",
              "      <td>NP</td>\n",
              "      <td>Nepal</td>\n",
              "      <td>0.0</td>\n",
              "      <td>270.0</td>\n",
              "    </tr>\n",
              "    <tr>\n",
              "      <th>425463</th>\n",
              "      <td>NPM00044477</td>\n",
              "      <td>20200329</td>\n",
              "      <td>NP</td>\n",
              "      <td>Nepal</td>\n",
              "      <td>0.0</td>\n",
              "      <td>270.0</td>\n",
              "    </tr>\n",
              "  </tbody>\n",
              "</table>\n",
              "</div>"
            ],
            "text/plain": [
              "          StationId   DateStr  ... Precipitation Temperature\n",
              "425414  NPM00044477  20200124  ...           0.0       160.0\n",
              "425415  NPM00044477  20200125  ...           0.0       175.0\n",
              "425416  NPM00044477  20200126  ...           0.0       174.0\n",
              "425417  NPM00044477  20200127  ...           0.0       185.0\n",
              "425418  NPM00044477  20200128  ...           0.0       180.0\n",
              "425419  NPM00044477  20200129  ...           0.0       190.0\n",
              "425420  NPM00044477  20200130  ...           0.0       183.0\n",
              "425421  NPM00044477  20200131  ...           0.0       186.0\n",
              "425422  NPM00044477  20200201  ...           0.0       170.0\n",
              "425423  NPM00044477  20200202  ...           0.0       181.0\n",
              "425424  NPM00044477  20200203  ...           0.0       180.0\n",
              "425425  NPM00044477  20200206  ...           0.0       188.0\n",
              "425426  NPM00044477  20200208  ...           0.0       188.0\n",
              "425427  NPM00044477  20200211  ...           0.0       205.0\n",
              "425428  NPM00044477  20200212  ...           0.0       221.0\n",
              "425429  NPM00044477  20200213  ...           0.0       220.0\n",
              "425430  NPM00044477  20200214  ...           0.0       211.0\n",
              "425431  NPM00044477  20200215  ...           0.0       206.0\n",
              "425432  NPM00044477  20200216  ...           0.0       215.0\n",
              "425433  NPM00044477  20200217  ...           0.0       213.0\n",
              "425434  NPM00044477  20200220  ...           0.0       198.0\n",
              "425435  NPM00044477  20200221  ...           0.0       211.0\n",
              "425436  NPM00044477  20200223  ...           0.0       240.0\n",
              "425437  NPM00044477  20200224  ...         170.0       241.0\n",
              "425438  NPM00044477  20200225  ...         180.0       230.0\n",
              "425439  NPM00044477  20200226  ...         267.0       150.0\n",
              "425440  NPM00044477  20200227  ...           0.0         0.0\n",
              "425441  NPM00044477  20200228  ...           0.0       215.0\n",
              "425442  NPM00044477  20200229  ...           0.0       230.0\n",
              "425443  NPM00044477  20200301  ...           0.0       234.0\n",
              "425444  NPM00044477  20200302  ...           0.0       235.0\n",
              "425445  NPM00044477  20200303  ...           0.0       228.0\n",
              "425446  NPM00044477  20200304  ...           0.0       225.0\n",
              "425447  NPM00044477  20200305  ...           0.0       230.0\n",
              "425448  NPM00044477  20200306  ...           0.0       223.0\n",
              "425449  NPM00044477  20200307  ...         132.0       240.0\n",
              "425450  NPM00044477  20200308  ...           5.0       205.0\n",
              "425451  NPM00044477  20200309  ...           0.0         0.0\n",
              "425452  NPM00044477  20200310  ...           0.0       228.0\n",
              "425453  NPM00044477  20200311  ...           0.0       236.0\n",
              "425454  NPM00044477  20200312  ...           0.0       249.0\n",
              "425455  NPM00044477  20200315  ...           0.0       246.0\n",
              "425456  NPM00044477  20200316  ...           0.0       242.0\n",
              "425457  NPM00044477  20200318  ...           0.0       236.0\n",
              "425458  NPM00044477  20200324  ...          41.0         0.0\n",
              "425459  NPM00044477  20200325  ...           0.0       254.0\n",
              "425460  NPM00044477  20200326  ...          56.0       251.0\n",
              "425461  NPM00044477  20200327  ...           0.0       251.0\n",
              "425462  NPM00044477  20200328  ...           0.0       270.0\n",
              "425463  NPM00044477  20200329  ...           0.0       270.0\n",
              "\n",
              "[50 rows x 6 columns]"
            ]
          },
          "metadata": {
            "tags": []
          },
          "execution_count": 27
        }
      ]
    },
    {
      "cell_type": "markdown",
      "metadata": {
        "id": "dqyXlbAcDjBA",
        "colab_type": "text"
      },
      "source": [
        "STEP3 PULLING latest Time Series COVID Data from "
      ]
    },
    {
      "cell_type": "code",
      "metadata": {
        "id": "xp0wa1ulemXQ",
        "colab_type": "code",
        "colab": {}
      },
      "source": [
        "covid_data=pd.read_csv(\"https://raw.githubusercontent.com/datasets/covid-19/master/data/time-series-19-covid-combined.csv\")"
      ],
      "execution_count": 0,
      "outputs": []
    },
    {
      "cell_type": "code",
      "metadata": {
        "id": "WYN5uO9efaQ_",
        "colab_type": "code",
        "outputId": "1714d4d2-3361-4167-bdf9-34c5b8a67832",
        "colab": {
          "base_uri": "https://localhost:8080/",
          "height": 419
        }
      },
      "source": [
        "covid_data"
      ],
      "execution_count": 0,
      "outputs": [
        {
          "output_type": "execute_result",
          "data": {
            "text/html": [
              "<div>\n",
              "<style scoped>\n",
              "    .dataframe tbody tr th:only-of-type {\n",
              "        vertical-align: middle;\n",
              "    }\n",
              "\n",
              "    .dataframe tbody tr th {\n",
              "        vertical-align: top;\n",
              "    }\n",
              "\n",
              "    .dataframe thead th {\n",
              "        text-align: right;\n",
              "    }\n",
              "</style>\n",
              "<table border=\"1\" class=\"dataframe\">\n",
              "  <thead>\n",
              "    <tr style=\"text-align: right;\">\n",
              "      <th></th>\n",
              "      <th>Date</th>\n",
              "      <th>Country/Region</th>\n",
              "      <th>Province/State</th>\n",
              "      <th>Lat</th>\n",
              "      <th>Long</th>\n",
              "      <th>Confirmed</th>\n",
              "      <th>Recovered</th>\n",
              "      <th>Deaths</th>\n",
              "    </tr>\n",
              "  </thead>\n",
              "  <tbody>\n",
              "    <tr>\n",
              "      <th>0</th>\n",
              "      <td>2020-01-22</td>\n",
              "      <td>Afghanistan</td>\n",
              "      <td>NaN</td>\n",
              "      <td>33.0</td>\n",
              "      <td>65.0</td>\n",
              "      <td>0.0</td>\n",
              "      <td>0.0</td>\n",
              "      <td>0.0</td>\n",
              "    </tr>\n",
              "    <tr>\n",
              "      <th>1</th>\n",
              "      <td>2020-01-23</td>\n",
              "      <td>Afghanistan</td>\n",
              "      <td>NaN</td>\n",
              "      <td>33.0</td>\n",
              "      <td>65.0</td>\n",
              "      <td>0.0</td>\n",
              "      <td>0.0</td>\n",
              "      <td>0.0</td>\n",
              "    </tr>\n",
              "    <tr>\n",
              "      <th>2</th>\n",
              "      <td>2020-01-24</td>\n",
              "      <td>Afghanistan</td>\n",
              "      <td>NaN</td>\n",
              "      <td>33.0</td>\n",
              "      <td>65.0</td>\n",
              "      <td>0.0</td>\n",
              "      <td>0.0</td>\n",
              "      <td>0.0</td>\n",
              "    </tr>\n",
              "    <tr>\n",
              "      <th>3</th>\n",
              "      <td>2020-01-25</td>\n",
              "      <td>Afghanistan</td>\n",
              "      <td>NaN</td>\n",
              "      <td>33.0</td>\n",
              "      <td>65.0</td>\n",
              "      <td>0.0</td>\n",
              "      <td>0.0</td>\n",
              "      <td>0.0</td>\n",
              "    </tr>\n",
              "    <tr>\n",
              "      <th>4</th>\n",
              "      <td>2020-01-26</td>\n",
              "      <td>Afghanistan</td>\n",
              "      <td>NaN</td>\n",
              "      <td>33.0</td>\n",
              "      <td>65.0</td>\n",
              "      <td>0.0</td>\n",
              "      <td>0.0</td>\n",
              "      <td>0.0</td>\n",
              "    </tr>\n",
              "    <tr>\n",
              "      <th>...</th>\n",
              "      <td>...</td>\n",
              "      <td>...</td>\n",
              "      <td>...</td>\n",
              "      <td>...</td>\n",
              "      <td>...</td>\n",
              "      <td>...</td>\n",
              "      <td>...</td>\n",
              "      <td>...</td>\n",
              "    </tr>\n",
              "    <tr>\n",
              "      <th>18171</th>\n",
              "      <td>2020-03-28</td>\n",
              "      <td>Zimbabwe</td>\n",
              "      <td>NaN</td>\n",
              "      <td>-20.0</td>\n",
              "      <td>30.0</td>\n",
              "      <td>7.0</td>\n",
              "      <td>0.0</td>\n",
              "      <td>1.0</td>\n",
              "    </tr>\n",
              "    <tr>\n",
              "      <th>18172</th>\n",
              "      <td>2020-03-29</td>\n",
              "      <td>Zimbabwe</td>\n",
              "      <td>NaN</td>\n",
              "      <td>-20.0</td>\n",
              "      <td>30.0</td>\n",
              "      <td>7.0</td>\n",
              "      <td>0.0</td>\n",
              "      <td>1.0</td>\n",
              "    </tr>\n",
              "    <tr>\n",
              "      <th>18173</th>\n",
              "      <td>2020-03-30</td>\n",
              "      <td>Zimbabwe</td>\n",
              "      <td>NaN</td>\n",
              "      <td>-20.0</td>\n",
              "      <td>30.0</td>\n",
              "      <td>7.0</td>\n",
              "      <td>0.0</td>\n",
              "      <td>1.0</td>\n",
              "    </tr>\n",
              "    <tr>\n",
              "      <th>18174</th>\n",
              "      <td>2020-03-31</td>\n",
              "      <td>Zimbabwe</td>\n",
              "      <td>NaN</td>\n",
              "      <td>-20.0</td>\n",
              "      <td>30.0</td>\n",
              "      <td>8.0</td>\n",
              "      <td>0.0</td>\n",
              "      <td>1.0</td>\n",
              "    </tr>\n",
              "    <tr>\n",
              "      <th>18175</th>\n",
              "      <td>2020-04-01</td>\n",
              "      <td>Zimbabwe</td>\n",
              "      <td>NaN</td>\n",
              "      <td>-20.0</td>\n",
              "      <td>30.0</td>\n",
              "      <td>8.0</td>\n",
              "      <td>0.0</td>\n",
              "      <td>1.0</td>\n",
              "    </tr>\n",
              "  </tbody>\n",
              "</table>\n",
              "<p>18176 rows × 8 columns</p>\n",
              "</div>"
            ],
            "text/plain": [
              "             Date Country/Region Province/State  ...  Confirmed  Recovered  Deaths\n",
              "0      2020-01-22    Afghanistan            NaN  ...        0.0        0.0     0.0\n",
              "1      2020-01-23    Afghanistan            NaN  ...        0.0        0.0     0.0\n",
              "2      2020-01-24    Afghanistan            NaN  ...        0.0        0.0     0.0\n",
              "3      2020-01-25    Afghanistan            NaN  ...        0.0        0.0     0.0\n",
              "4      2020-01-26    Afghanistan            NaN  ...        0.0        0.0     0.0\n",
              "...           ...            ...            ...  ...        ...        ...     ...\n",
              "18171  2020-03-28       Zimbabwe            NaN  ...        7.0        0.0     1.0\n",
              "18172  2020-03-29       Zimbabwe            NaN  ...        7.0        0.0     1.0\n",
              "18173  2020-03-30       Zimbabwe            NaN  ...        7.0        0.0     1.0\n",
              "18174  2020-03-31       Zimbabwe            NaN  ...        8.0        0.0     1.0\n",
              "18175  2020-04-01       Zimbabwe            NaN  ...        8.0        0.0     1.0\n",
              "\n",
              "[18176 rows x 8 columns]"
            ]
          },
          "metadata": {
            "tags": []
          },
          "execution_count": 103
        }
      ]
    },
    {
      "cell_type": "code",
      "metadata": {
        "id": "51_wdw43fyeu",
        "colab_type": "code",
        "colab": {}
      },
      "source": [
        "#Convert Date in COVID to format that is similar to one in NOAA Data Set\n",
        "covid_data[\"DateStr\"]=covid_data['Date'].str.slice(0,4)+covid_data['Date'].str.slice(5,7)+covid_data['Date'].str.slice(8,10)"
      ],
      "execution_count": 0,
      "outputs": []
    },
    {
      "cell_type": "code",
      "metadata": {
        "id": "oKdMyMk1irLT",
        "colab_type": "code",
        "colab": {}
      },
      "source": [
        "#Convert the datatype to int64 type from String\n",
        "covid_data['DateStr'] = covid_data['DateStr'].astype(int)"
      ],
      "execution_count": 0,
      "outputs": []
    },
    {
      "cell_type": "code",
      "metadata": {
        "id": "ha3q80ucn1at",
        "colab_type": "code",
        "outputId": "712b9065-cd4f-4de5-9a90-b9fcce95cd1a",
        "colab": {
          "base_uri": "https://localhost:8080/",
          "height": 102
        }
      },
      "source": [
        "#Rename the Column Name pointing to Country/Region of Covid Data into the same as that of NOAA dataset\n",
        "covid_data.rename(columns = {'Country/Region':'country_name'}, inplace = True) \n",
        "   \n",
        "# After renaming the columns \n",
        "print(\"\\nAfter modifying first column:\\n\", covid_data.columns)"
      ],
      "execution_count": 31,
      "outputs": [
        {
          "output_type": "stream",
          "text": [
            "\n",
            "After modifying first column:\n",
            " Index(['Date', 'country_name', 'Province/State', 'Lat', 'Long', 'Confirmed',\n",
            "       'Recovered', 'Deaths', 'DateStr'],\n",
            "      dtype='object')\n"
          ],
          "name": "stdout"
        }
      ]
    },
    {
      "cell_type": "code",
      "metadata": {
        "id": "0zwtsnHXnSMh",
        "colab_type": "code",
        "colab": {}
      },
      "source": [
        "#Make innerjoin between COVID Data and the NOAA Data using DateStr and the country_name for all the station\n",
        "final_df = pd.merge(noaa_daily_tempmax_percep_after_jan20,covid_data,  how='inner', left_on=['DateStr','country_name'], right_on = ['DateStr','country_name'])"
      ],
      "execution_count": 0,
      "outputs": []
    },
    {
      "cell_type": "code",
      "metadata": {
        "id": "JcMby5kOoWfl",
        "colab_type": "code",
        "outputId": "5c2a50de-b138-46f6-8a63-23c83469c2cb",
        "colab": {
          "base_uri": "https://localhost:8080/",
          "height": 609
        }
      },
      "source": [
        "final_df"
      ],
      "execution_count": 33,
      "outputs": [
        {
          "output_type": "execute_result",
          "data": {
            "text/html": [
              "<div>\n",
              "<style scoped>\n",
              "    .dataframe tbody tr th:only-of-type {\n",
              "        vertical-align: middle;\n",
              "    }\n",
              "\n",
              "    .dataframe tbody tr th {\n",
              "        vertical-align: top;\n",
              "    }\n",
              "\n",
              "    .dataframe thead th {\n",
              "        text-align: right;\n",
              "    }\n",
              "</style>\n",
              "<table border=\"1\" class=\"dataframe\">\n",
              "  <thead>\n",
              "    <tr style=\"text-align: right;\">\n",
              "      <th></th>\n",
              "      <th>StationId</th>\n",
              "      <th>DateStr</th>\n",
              "      <th>FIPSCountryCode</th>\n",
              "      <th>country_name</th>\n",
              "      <th>Precipitation</th>\n",
              "      <th>Temperature</th>\n",
              "      <th>Date</th>\n",
              "      <th>Province/State</th>\n",
              "      <th>Lat</th>\n",
              "      <th>Long</th>\n",
              "      <th>Confirmed</th>\n",
              "      <th>Recovered</th>\n",
              "      <th>Deaths</th>\n",
              "    </tr>\n",
              "  </thead>\n",
              "  <tbody>\n",
              "    <tr>\n",
              "      <th>0</th>\n",
              "      <td>AE000041196</td>\n",
              "      <td>20200122</td>\n",
              "      <td>AE</td>\n",
              "      <td>United Arab Emirates</td>\n",
              "      <td>0.0</td>\n",
              "      <td>0.0</td>\n",
              "      <td>2020-01-22</td>\n",
              "      <td>NaN</td>\n",
              "      <td>24.0</td>\n",
              "      <td>54.0</td>\n",
              "      <td>0.0</td>\n",
              "      <td>0.0</td>\n",
              "      <td>0.0</td>\n",
              "    </tr>\n",
              "    <tr>\n",
              "      <th>1</th>\n",
              "      <td>AEM00041194</td>\n",
              "      <td>20200122</td>\n",
              "      <td>AE</td>\n",
              "      <td>United Arab Emirates</td>\n",
              "      <td>0.0</td>\n",
              "      <td>0.0</td>\n",
              "      <td>2020-01-22</td>\n",
              "      <td>NaN</td>\n",
              "      <td>24.0</td>\n",
              "      <td>54.0</td>\n",
              "      <td>0.0</td>\n",
              "      <td>0.0</td>\n",
              "      <td>0.0</td>\n",
              "    </tr>\n",
              "    <tr>\n",
              "      <th>2</th>\n",
              "      <td>AE000041196</td>\n",
              "      <td>20200123</td>\n",
              "      <td>AE</td>\n",
              "      <td>United Arab Emirates</td>\n",
              "      <td>0.0</td>\n",
              "      <td>0.0</td>\n",
              "      <td>2020-01-23</td>\n",
              "      <td>NaN</td>\n",
              "      <td>24.0</td>\n",
              "      <td>54.0</td>\n",
              "      <td>0.0</td>\n",
              "      <td>0.0</td>\n",
              "      <td>0.0</td>\n",
              "    </tr>\n",
              "    <tr>\n",
              "      <th>3</th>\n",
              "      <td>AEM00041194</td>\n",
              "      <td>20200123</td>\n",
              "      <td>AE</td>\n",
              "      <td>United Arab Emirates</td>\n",
              "      <td>0.0</td>\n",
              "      <td>0.0</td>\n",
              "      <td>2020-01-23</td>\n",
              "      <td>NaN</td>\n",
              "      <td>24.0</td>\n",
              "      <td>54.0</td>\n",
              "      <td>0.0</td>\n",
              "      <td>0.0</td>\n",
              "      <td>0.0</td>\n",
              "    </tr>\n",
              "    <tr>\n",
              "      <th>4</th>\n",
              "      <td>AE000041196</td>\n",
              "      <td>20200124</td>\n",
              "      <td>AE</td>\n",
              "      <td>United Arab Emirates</td>\n",
              "      <td>0.0</td>\n",
              "      <td>0.0</td>\n",
              "      <td>2020-01-24</td>\n",
              "      <td>NaN</td>\n",
              "      <td>24.0</td>\n",
              "      <td>54.0</td>\n",
              "      <td>0.0</td>\n",
              "      <td>0.0</td>\n",
              "      <td>0.0</td>\n",
              "    </tr>\n",
              "    <tr>\n",
              "      <th>...</th>\n",
              "      <td>...</td>\n",
              "      <td>...</td>\n",
              "      <td>...</td>\n",
              "      <td>...</td>\n",
              "      <td>...</td>\n",
              "      <td>...</td>\n",
              "      <td>...</td>\n",
              "      <td>...</td>\n",
              "      <td>...</td>\n",
              "      <td>...</td>\n",
              "      <td>...</td>\n",
              "      <td>...</td>\n",
              "      <td>...</td>\n",
              "    </tr>\n",
              "    <tr>\n",
              "      <th>3444281</th>\n",
              "      <td>ZI000067975</td>\n",
              "      <td>20200327</td>\n",
              "      <td>ZI</td>\n",
              "      <td>Zimbabwe</td>\n",
              "      <td>0.0</td>\n",
              "      <td>253.0</td>\n",
              "      <td>2020-03-27</td>\n",
              "      <td>NaN</td>\n",
              "      <td>-20.0</td>\n",
              "      <td>30.0</td>\n",
              "      <td>5.0</td>\n",
              "      <td>0.0</td>\n",
              "      <td>1.0</td>\n",
              "    </tr>\n",
              "    <tr>\n",
              "      <th>3444282</th>\n",
              "      <td>ZI000067775</td>\n",
              "      <td>20200328</td>\n",
              "      <td>ZI</td>\n",
              "      <td>Zimbabwe</td>\n",
              "      <td>0.0</td>\n",
              "      <td>277.0</td>\n",
              "      <td>2020-03-28</td>\n",
              "      <td>NaN</td>\n",
              "      <td>-20.0</td>\n",
              "      <td>30.0</td>\n",
              "      <td>7.0</td>\n",
              "      <td>0.0</td>\n",
              "      <td>1.0</td>\n",
              "    </tr>\n",
              "    <tr>\n",
              "      <th>3444283</th>\n",
              "      <td>ZI000067983</td>\n",
              "      <td>20200328</td>\n",
              "      <td>ZI</td>\n",
              "      <td>Zimbabwe</td>\n",
              "      <td>99.0</td>\n",
              "      <td>212.0</td>\n",
              "      <td>2020-03-28</td>\n",
              "      <td>NaN</td>\n",
              "      <td>-20.0</td>\n",
              "      <td>30.0</td>\n",
              "      <td>7.0</td>\n",
              "      <td>0.0</td>\n",
              "      <td>1.0</td>\n",
              "    </tr>\n",
              "    <tr>\n",
              "      <th>3444284</th>\n",
              "      <td>ZI000067975</td>\n",
              "      <td>20200215</td>\n",
              "      <td>ZI</td>\n",
              "      <td>Zimbabwe</td>\n",
              "      <td>0.0</td>\n",
              "      <td>292.0</td>\n",
              "      <td>2020-02-15</td>\n",
              "      <td>NaN</td>\n",
              "      <td>-20.0</td>\n",
              "      <td>30.0</td>\n",
              "      <td>0.0</td>\n",
              "      <td>0.0</td>\n",
              "      <td>0.0</td>\n",
              "    </tr>\n",
              "    <tr>\n",
              "      <th>3444285</th>\n",
              "      <td>ZI000067975</td>\n",
              "      <td>20200304</td>\n",
              "      <td>ZI</td>\n",
              "      <td>Zimbabwe</td>\n",
              "      <td>30.0</td>\n",
              "      <td>0.0</td>\n",
              "      <td>2020-03-04</td>\n",
              "      <td>NaN</td>\n",
              "      <td>-20.0</td>\n",
              "      <td>30.0</td>\n",
              "      <td>0.0</td>\n",
              "      <td>0.0</td>\n",
              "      <td>0.0</td>\n",
              "    </tr>\n",
              "  </tbody>\n",
              "</table>\n",
              "<p>3444286 rows × 13 columns</p>\n",
              "</div>"
            ],
            "text/plain": [
              "           StationId   DateStr FIPSCountryCode  ... Confirmed  Recovered  Deaths\n",
              "0        AE000041196  20200122              AE  ...       0.0        0.0     0.0\n",
              "1        AEM00041194  20200122              AE  ...       0.0        0.0     0.0\n",
              "2        AE000041196  20200123              AE  ...       0.0        0.0     0.0\n",
              "3        AEM00041194  20200123              AE  ...       0.0        0.0     0.0\n",
              "4        AE000041196  20200124              AE  ...       0.0        0.0     0.0\n",
              "...              ...       ...             ...  ...       ...        ...     ...\n",
              "3444281  ZI000067975  20200327              ZI  ...       5.0        0.0     1.0\n",
              "3444282  ZI000067775  20200328              ZI  ...       7.0        0.0     1.0\n",
              "3444283  ZI000067983  20200328              ZI  ...       7.0        0.0     1.0\n",
              "3444284  ZI000067975  20200215              ZI  ...       0.0        0.0     0.0\n",
              "3444285  ZI000067975  20200304              ZI  ...       0.0        0.0     0.0\n",
              "\n",
              "[3444286 rows x 13 columns]"
            ]
          },
          "metadata": {
            "tags": []
          },
          "execution_count": 33
        }
      ]
    },
    {
      "cell_type": "code",
      "metadata": {
        "id": "Lgmh-SSspHK4",
        "colab_type": "code",
        "outputId": "1806c5b8-994f-4aba-8cd5-9e52609532d1",
        "colab": {
          "base_uri": "https://localhost:8080/",
          "height": 609
        }
      },
      "source": [
        "#some sanity check\n",
        "final_df[(final_df['FIPSCountryCode'] =='NP')].tail(100)"
      ],
      "execution_count": 35,
      "outputs": [
        {
          "output_type": "execute_result",
          "data": {
            "text/html": [
              "<div>\n",
              "<style scoped>\n",
              "    .dataframe tbody tr th:only-of-type {\n",
              "        vertical-align: middle;\n",
              "    }\n",
              "\n",
              "    .dataframe tbody tr th {\n",
              "        vertical-align: top;\n",
              "    }\n",
              "\n",
              "    .dataframe thead th {\n",
              "        text-align: right;\n",
              "    }\n",
              "</style>\n",
              "<table border=\"1\" class=\"dataframe\">\n",
              "  <thead>\n",
              "    <tr style=\"text-align: right;\">\n",
              "      <th></th>\n",
              "      <th>StationId</th>\n",
              "      <th>DateStr</th>\n",
              "      <th>FIPSCountryCode</th>\n",
              "      <th>country_name</th>\n",
              "      <th>Precipitation</th>\n",
              "      <th>Temperature</th>\n",
              "      <th>Date</th>\n",
              "      <th>Province/State</th>\n",
              "      <th>Lat</th>\n",
              "      <th>Long</th>\n",
              "      <th>Confirmed</th>\n",
              "      <th>Recovered</th>\n",
              "      <th>Deaths</th>\n",
              "    </tr>\n",
              "  </thead>\n",
              "  <tbody>\n",
              "    <tr>\n",
              "      <th>3341467</th>\n",
              "      <td>NPM00044477</td>\n",
              "      <td>20200130</td>\n",
              "      <td>NP</td>\n",
              "      <td>Nepal</td>\n",
              "      <td>0.0</td>\n",
              "      <td>183.0</td>\n",
              "      <td>2020-01-30</td>\n",
              "      <td>NaN</td>\n",
              "      <td>28.1667</td>\n",
              "      <td>84.25</td>\n",
              "      <td>1.0</td>\n",
              "      <td>0.0</td>\n",
              "      <td>0.0</td>\n",
              "    </tr>\n",
              "    <tr>\n",
              "      <th>3341468</th>\n",
              "      <td>NP000444540</td>\n",
              "      <td>20200131</td>\n",
              "      <td>NP</td>\n",
              "      <td>Nepal</td>\n",
              "      <td>0.0</td>\n",
              "      <td>184.0</td>\n",
              "      <td>2020-01-31</td>\n",
              "      <td>NaN</td>\n",
              "      <td>28.1667</td>\n",
              "      <td>84.25</td>\n",
              "      <td>1.0</td>\n",
              "      <td>0.0</td>\n",
              "      <td>0.0</td>\n",
              "    </tr>\n",
              "    <tr>\n",
              "      <th>3341469</th>\n",
              "      <td>NPM00044477</td>\n",
              "      <td>20200131</td>\n",
              "      <td>NP</td>\n",
              "      <td>Nepal</td>\n",
              "      <td>0.0</td>\n",
              "      <td>186.0</td>\n",
              "      <td>2020-01-31</td>\n",
              "      <td>NaN</td>\n",
              "      <td>28.1667</td>\n",
              "      <td>84.25</td>\n",
              "      <td>1.0</td>\n",
              "      <td>0.0</td>\n",
              "      <td>0.0</td>\n",
              "    </tr>\n",
              "    <tr>\n",
              "      <th>3341470</th>\n",
              "      <td>NP000444540</td>\n",
              "      <td>20200201</td>\n",
              "      <td>NP</td>\n",
              "      <td>Nepal</td>\n",
              "      <td>0.0</td>\n",
              "      <td>180.0</td>\n",
              "      <td>2020-02-01</td>\n",
              "      <td>NaN</td>\n",
              "      <td>28.1667</td>\n",
              "      <td>84.25</td>\n",
              "      <td>1.0</td>\n",
              "      <td>0.0</td>\n",
              "      <td>0.0</td>\n",
              "    </tr>\n",
              "    <tr>\n",
              "      <th>3341471</th>\n",
              "      <td>NPM00044477</td>\n",
              "      <td>20200201</td>\n",
              "      <td>NP</td>\n",
              "      <td>Nepal</td>\n",
              "      <td>0.0</td>\n",
              "      <td>170.0</td>\n",
              "      <td>2020-02-01</td>\n",
              "      <td>NaN</td>\n",
              "      <td>28.1667</td>\n",
              "      <td>84.25</td>\n",
              "      <td>1.0</td>\n",
              "      <td>0.0</td>\n",
              "      <td>0.0</td>\n",
              "    </tr>\n",
              "    <tr>\n",
              "      <th>...</th>\n",
              "      <td>...</td>\n",
              "      <td>...</td>\n",
              "      <td>...</td>\n",
              "      <td>...</td>\n",
              "      <td>...</td>\n",
              "      <td>...</td>\n",
              "      <td>...</td>\n",
              "      <td>...</td>\n",
              "      <td>...</td>\n",
              "      <td>...</td>\n",
              "      <td>...</td>\n",
              "      <td>...</td>\n",
              "      <td>...</td>\n",
              "    </tr>\n",
              "    <tr>\n",
              "      <th>3341562</th>\n",
              "      <td>NP000444540</td>\n",
              "      <td>20200328</td>\n",
              "      <td>NP</td>\n",
              "      <td>Nepal</td>\n",
              "      <td>33.0</td>\n",
              "      <td>290.0</td>\n",
              "      <td>2020-03-28</td>\n",
              "      <td>NaN</td>\n",
              "      <td>28.1667</td>\n",
              "      <td>84.25</td>\n",
              "      <td>5.0</td>\n",
              "      <td>1.0</td>\n",
              "      <td>0.0</td>\n",
              "    </tr>\n",
              "    <tr>\n",
              "      <th>3341563</th>\n",
              "      <td>NPM00044477</td>\n",
              "      <td>20200328</td>\n",
              "      <td>NP</td>\n",
              "      <td>Nepal</td>\n",
              "      <td>0.0</td>\n",
              "      <td>270.0</td>\n",
              "      <td>2020-03-28</td>\n",
              "      <td>NaN</td>\n",
              "      <td>28.1667</td>\n",
              "      <td>84.25</td>\n",
              "      <td>5.0</td>\n",
              "      <td>1.0</td>\n",
              "      <td>0.0</td>\n",
              "    </tr>\n",
              "    <tr>\n",
              "      <th>3341564</th>\n",
              "      <td>NP000444540</td>\n",
              "      <td>20200329</td>\n",
              "      <td>NP</td>\n",
              "      <td>Nepal</td>\n",
              "      <td>0.0</td>\n",
              "      <td>299.0</td>\n",
              "      <td>2020-03-29</td>\n",
              "      <td>NaN</td>\n",
              "      <td>28.1667</td>\n",
              "      <td>84.25</td>\n",
              "      <td>5.0</td>\n",
              "      <td>1.0</td>\n",
              "      <td>0.0</td>\n",
              "    </tr>\n",
              "    <tr>\n",
              "      <th>3341565</th>\n",
              "      <td>NPM00044477</td>\n",
              "      <td>20200329</td>\n",
              "      <td>NP</td>\n",
              "      <td>Nepal</td>\n",
              "      <td>0.0</td>\n",
              "      <td>270.0</td>\n",
              "      <td>2020-03-29</td>\n",
              "      <td>NaN</td>\n",
              "      <td>28.1667</td>\n",
              "      <td>84.25</td>\n",
              "      <td>5.0</td>\n",
              "      <td>1.0</td>\n",
              "      <td>0.0</td>\n",
              "    </tr>\n",
              "    <tr>\n",
              "      <th>3341566</th>\n",
              "      <td>NPM00044477</td>\n",
              "      <td>20200128</td>\n",
              "      <td>NP</td>\n",
              "      <td>Nepal</td>\n",
              "      <td>0.0</td>\n",
              "      <td>180.0</td>\n",
              "      <td>2020-01-28</td>\n",
              "      <td>NaN</td>\n",
              "      <td>28.1667</td>\n",
              "      <td>84.25</td>\n",
              "      <td>1.0</td>\n",
              "      <td>0.0</td>\n",
              "      <td>0.0</td>\n",
              "    </tr>\n",
              "  </tbody>\n",
              "</table>\n",
              "<p>100 rows × 13 columns</p>\n",
              "</div>"
            ],
            "text/plain": [
              "           StationId   DateStr FIPSCountryCode  ... Confirmed  Recovered  Deaths\n",
              "3341467  NPM00044477  20200130              NP  ...       1.0        0.0     0.0\n",
              "3341468  NP000444540  20200131              NP  ...       1.0        0.0     0.0\n",
              "3341469  NPM00044477  20200131              NP  ...       1.0        0.0     0.0\n",
              "3341470  NP000444540  20200201              NP  ...       1.0        0.0     0.0\n",
              "3341471  NPM00044477  20200201              NP  ...       1.0        0.0     0.0\n",
              "...              ...       ...             ...  ...       ...        ...     ...\n",
              "3341562  NP000444540  20200328              NP  ...       5.0        1.0     0.0\n",
              "3341563  NPM00044477  20200328              NP  ...       5.0        1.0     0.0\n",
              "3341564  NP000444540  20200329              NP  ...       5.0        1.0     0.0\n",
              "3341565  NPM00044477  20200329              NP  ...       5.0        1.0     0.0\n",
              "3341566  NPM00044477  20200128              NP  ...       1.0        0.0     0.0\n",
              "\n",
              "[100 rows x 13 columns]"
            ]
          },
          "metadata": {
            "tags": []
          },
          "execution_count": 35
        }
      ]
    },
    {
      "cell_type": "code",
      "metadata": {
        "id": "EkIUc04LsIej",
        "colab_type": "code",
        "colab": {}
      },
      "source": [
        "#From final_df drop unnecessary column\n",
        "final_df=final_df.drop(['Province/State','Lat','Long'], axis = 1) "
      ],
      "execution_count": 0,
      "outputs": []
    },
    {
      "cell_type": "markdown",
      "metadata": {
        "id": "3Rx0rQDmI_Bw",
        "colab_type": "text"
      },
      "source": [
        "# KERAS MACHINE LEARNING MODULE"
      ]
    },
    {
      "cell_type": "code",
      "metadata": {
        "id": "2EyDa-xQJHnw",
        "colab_type": "code",
        "colab": {}
      },
      "source": [
        "# KERAS generally uses the TensorFlow 1.X version.\n"
      ],
      "execution_count": 0,
      "outputs": []
    },
    {
      "cell_type": "code",
      "metadata": {
        "id": "876N_ZDEMtKS",
        "colab_type": "code",
        "outputId": "14d5c620-d6af-4ef1-949d-3c887c3aeb95",
        "colab": {
          "base_uri": "https://localhost:8080/",
          "height": 102
        }
      },
      "source": [
        "%tensorflow_version 1.x%\n",
        "import keras\n",
        "from keras.models import Sequential\n",
        "from keras.layers import Dense"
      ],
      "execution_count": 38,
      "outputs": [
        {
          "output_type": "stream",
          "text": [
            "`%tensorflow_version` only switches the major version: 1.x or 2.x.\n",
            "You set: `1.x%`. This will be interpreted as: `1.x`.\n",
            "\n",
            "\n",
            "TensorFlow is already loaded. Please restart the runtime to change versions.\n"
          ],
          "name": "stdout"
        }
      ]
    },
    {
      "cell_type": "code",
      "metadata": {
        "id": "fRyq-QlWJ4IC",
        "colab_type": "code",
        "colab": {
          "base_uri": "https://localhost:8080/",
          "height": 34
        },
        "outputId": "bb739b3d-e69d-4839-d085-96f9527b9ae1"
      },
      "source": [
        "final_df.shape"
      ],
      "execution_count": 39,
      "outputs": [
        {
          "output_type": "execute_result",
          "data": {
            "text/plain": [
              "(3444286, 10)"
            ]
          },
          "metadata": {
            "tags": []
          },
          "execution_count": 39
        }
      ]
    },
    {
      "cell_type": "code",
      "metadata": {
        "id": "_nYoM_RcKOFf",
        "colab_type": "code",
        "colab": {
          "base_uri": "https://localhost:8080/",
          "height": 204
        },
        "outputId": "798a745a-7f5e-470b-cff9-cb5b3d31c1a6"
      },
      "source": [
        "final_df.count(0)"
      ],
      "execution_count": 40,
      "outputs": [
        {
          "output_type": "execute_result",
          "data": {
            "text/plain": [
              "StationId          3444286\n",
              "DateStr            3444286\n",
              "FIPSCountryCode    3444286\n",
              "country_name       3444286\n",
              "Precipitation      3444286\n",
              "Temperature        3444286\n",
              "Date               3444286\n",
              "Confirmed          3361098\n",
              "Recovered          2279654\n",
              "Deaths             3361098\n",
              "dtype: int64"
            ]
          },
          "metadata": {
            "tags": []
          },
          "execution_count": 40
        }
      ]
    },
    {
      "cell_type": "markdown",
      "metadata": {
        "id": "JzRalk5iKkpz",
        "colab_type": "text"
      },
      "source": [
        "Check if there is any missing value"
      ]
    },
    {
      "cell_type": "code",
      "metadata": {
        "id": "Rgpx2VzuKpMd",
        "colab_type": "code",
        "colab": {
          "base_uri": "https://localhost:8080/",
          "height": 204
        },
        "outputId": "43764e74-32a9-4fd4-ec4e-9ebe68486860"
      },
      "source": [
        "final_df.isnull().sum()"
      ],
      "execution_count": 41,
      "outputs": [
        {
          "output_type": "execute_result",
          "data": {
            "text/plain": [
              "StationId                0\n",
              "DateStr                  0\n",
              "FIPSCountryCode          0\n",
              "country_name             0\n",
              "Precipitation            0\n",
              "Temperature              0\n",
              "Date                     0\n",
              "Confirmed            83188\n",
              "Recovered          1164632\n",
              "Deaths               83188\n",
              "dtype: int64"
            ]
          },
          "metadata": {
            "tags": []
          },
          "execution_count": 41
        }
      ]
    },
    {
      "cell_type": "code",
      "metadata": {
        "id": "ypABsYpWMkLx",
        "colab_type": "code",
        "colab": {}
      },
      "source": [
        "final_df = final_df.dropna(axis=0, subset=['Confirmed'])"
      ],
      "execution_count": 0,
      "outputs": []
    },
    {
      "cell_type": "code",
      "metadata": {
        "id": "4SyJWPV2MtfH",
        "colab_type": "code",
        "colab": {
          "base_uri": "https://localhost:8080/",
          "height": 204
        },
        "outputId": "568ef47e-a90a-41ff-c980-9185ed709ece"
      },
      "source": [
        "final_df.isnull().sum()"
      ],
      "execution_count": 46,
      "outputs": [
        {
          "output_type": "execute_result",
          "data": {
            "text/plain": [
              "StationId                0\n",
              "DateStr                  0\n",
              "FIPSCountryCode          0\n",
              "country_name             0\n",
              "Precipitation            0\n",
              "Temperature              0\n",
              "Date                     0\n",
              "Confirmed                0\n",
              "Recovered          1164632\n",
              "Deaths                   0\n",
              "dtype: int64"
            ]
          },
          "metadata": {
            "tags": []
          },
          "execution_count": 46
        }
      ]
    },
    {
      "cell_type": "code",
      "metadata": {
        "id": "y418dv7zM1M5",
        "colab_type": "code",
        "colab": {
          "base_uri": "https://localhost:8080/",
          "height": 34
        },
        "outputId": "2e3ed2a2-a048-47fe-b667-474b47eae7e4"
      },
      "source": [
        "final_df.shape"
      ],
      "execution_count": 47,
      "outputs": [
        {
          "output_type": "execute_result",
          "data": {
            "text/plain": [
              "(3361098, 10)"
            ]
          },
          "metadata": {
            "tags": []
          },
          "execution_count": 47
        }
      ]
    },
    {
      "cell_type": "code",
      "metadata": {
        "id": "TUgt37TpQFn9",
        "colab_type": "code",
        "colab": {}
      },
      "source": [
        "#Split into Training set and Test set . 80% training set and 20% test set\n",
        "train_dataset = final_df.sample(frac=0.8,random_state=0)\n",
        "test_dataset = final_df.drop(train_dataset.index)"
      ],
      "execution_count": 0,
      "outputs": []
    },
    {
      "cell_type": "code",
      "metadata": {
        "id": "3wmUmzO7QP1U",
        "colab_type": "code",
        "colab": {
          "base_uri": "https://localhost:8080/",
          "height": 204
        },
        "outputId": "8565f245-457c-40de-82f8-e48780cb8859"
      },
      "source": [
        "train_dataset.count()"
      ],
      "execution_count": 60,
      "outputs": [
        {
          "output_type": "execute_result",
          "data": {
            "text/plain": [
              "StationId          2688878\n",
              "DateStr            2688878\n",
              "FIPSCountryCode    2688878\n",
              "country_name       2688878\n",
              "Precipitation      2688878\n",
              "Temperature        2688878\n",
              "Date               2688878\n",
              "Confirmed          2688878\n",
              "Recovered          1756707\n",
              "Deaths             2688878\n",
              "dtype: int64"
            ]
          },
          "metadata": {
            "tags": []
          },
          "execution_count": 60
        }
      ]
    },
    {
      "cell_type": "code",
      "metadata": {
        "id": "tOtdse1nQcuK",
        "colab_type": "code",
        "colab": {
          "base_uri": "https://localhost:8080/",
          "height": 204
        },
        "outputId": "59971d25-6ca7-44bb-b89e-7904f3875f08"
      },
      "source": [
        "test_dataset.count()"
      ],
      "execution_count": 51,
      "outputs": [
        {
          "output_type": "execute_result",
          "data": {
            "text/plain": [
              "StationId          672220\n",
              "DateStr            672220\n",
              "FIPSCountryCode    672220\n",
              "country_name       672220\n",
              "Precipitation      672220\n",
              "Temperature        672220\n",
              "Date               672220\n",
              "Confirmed          672220\n",
              "Recovered          439759\n",
              "Deaths             672220\n",
              "dtype: int64"
            ]
          },
          "metadata": {
            "tags": []
          },
          "execution_count": 51
        }
      ]
    },
    {
      "cell_type": "code",
      "metadata": {
        "id": "KhNtE_FaQl1D",
        "colab_type": "code",
        "colab": {}
      },
      "source": [
        "#Remove Unnecessary Column from both training set and test set\n",
        "train_dataset=train_dataset.drop(['Date','StationId','DateStr','FIPSCountryCode','country_name','Date','Recovered','Deaths'], axis = 1)"
      ],
      "execution_count": 0,
      "outputs": []
    },
    {
      "cell_type": "code",
      "metadata": {
        "id": "wP_WqB8lVNG2",
        "colab_type": "code",
        "colab": {}
      },
      "source": [
        "test_dataset=test_dataset.drop(['Date','StationId','DateStr','FIPSCountryCode','country_name','Date','Recovered','Deaths'], axis = 1)"
      ],
      "execution_count": 0,
      "outputs": []
    },
    {
      "cell_type": "code",
      "metadata": {
        "id": "Vu4mEvGbQ2BF",
        "colab_type": "code",
        "colab": {}
      },
      "source": [
        "#create target and predictor column, target is confirmed and predictor is Temperature, Precipitation\n",
        "\n",
        "predictors = train_dataset[train_dataset.columns[train_dataset.columns != 'Confirmed']] # all columns except Confirmed\n",
        "\n",
        "target = train_dataset['Confirmed'] # Confirmed"
      ],
      "execution_count": 0,
      "outputs": []
    },
    {
      "cell_type": "code",
      "metadata": {
        "id": "VfG45pOTVqF3",
        "colab_type": "code",
        "colab": {
          "base_uri": "https://localhost:8080/",
          "height": 419
        },
        "outputId": "ca571304-3a78-4c1f-bb01-9c2bf86b483f"
      },
      "source": [
        "predictors"
      ],
      "execution_count": 65,
      "outputs": [
        {
          "output_type": "execute_result",
          "data": {
            "text/html": [
              "<div>\n",
              "<style scoped>\n",
              "    .dataframe tbody tr th:only-of-type {\n",
              "        vertical-align: middle;\n",
              "    }\n",
              "\n",
              "    .dataframe tbody tr th {\n",
              "        vertical-align: top;\n",
              "    }\n",
              "\n",
              "    .dataframe thead th {\n",
              "        text-align: right;\n",
              "    }\n",
              "</style>\n",
              "<table border=\"1\" class=\"dataframe\">\n",
              "  <thead>\n",
              "    <tr style=\"text-align: right;\">\n",
              "      <th></th>\n",
              "      <th>Precipitation</th>\n",
              "      <th>Temperature</th>\n",
              "    </tr>\n",
              "  </thead>\n",
              "  <tbody>\n",
              "    <tr>\n",
              "      <th>714747</th>\n",
              "      <td>0.0</td>\n",
              "      <td>0.0</td>\n",
              "    </tr>\n",
              "    <tr>\n",
              "      <th>2126464</th>\n",
              "      <td>0.0</td>\n",
              "      <td>61.0</td>\n",
              "    </tr>\n",
              "    <tr>\n",
              "      <th>2005632</th>\n",
              "      <td>0.0</td>\n",
              "      <td>0.0</td>\n",
              "    </tr>\n",
              "    <tr>\n",
              "      <th>676751</th>\n",
              "      <td>4.0</td>\n",
              "      <td>0.0</td>\n",
              "    </tr>\n",
              "    <tr>\n",
              "      <th>2888674</th>\n",
              "      <td>0.0</td>\n",
              "      <td>58.0</td>\n",
              "    </tr>\n",
              "    <tr>\n",
              "      <th>...</th>\n",
              "      <td>...</td>\n",
              "      <td>...</td>\n",
              "    </tr>\n",
              "    <tr>\n",
              "      <th>856373</th>\n",
              "      <td>0.0</td>\n",
              "      <td>0.0</td>\n",
              "    </tr>\n",
              "    <tr>\n",
              "      <th>1607043</th>\n",
              "      <td>0.0</td>\n",
              "      <td>-47.0</td>\n",
              "    </tr>\n",
              "    <tr>\n",
              "      <th>8826</th>\n",
              "      <td>4.0</td>\n",
              "      <td>0.0</td>\n",
              "    </tr>\n",
              "    <tr>\n",
              "      <th>2662253</th>\n",
              "      <td>55.0</td>\n",
              "      <td>-61.0</td>\n",
              "    </tr>\n",
              "    <tr>\n",
              "      <th>3132872</th>\n",
              "      <td>450.0</td>\n",
              "      <td>275.0</td>\n",
              "    </tr>\n",
              "  </tbody>\n",
              "</table>\n",
              "<p>2688878 rows × 2 columns</p>\n",
              "</div>"
            ],
            "text/plain": [
              "         Precipitation  Temperature\n",
              "714747             0.0          0.0\n",
              "2126464            0.0         61.0\n",
              "2005632            0.0          0.0\n",
              "676751             4.0          0.0\n",
              "2888674            0.0         58.0\n",
              "...                ...          ...\n",
              "856373             0.0          0.0\n",
              "1607043            0.0        -47.0\n",
              "8826               4.0          0.0\n",
              "2662253           55.0        -61.0\n",
              "3132872          450.0        275.0\n",
              "\n",
              "[2688878 rows x 2 columns]"
            ]
          },
          "metadata": {
            "tags": []
          },
          "execution_count": 65
        }
      ]
    },
    {
      "cell_type": "code",
      "metadata": {
        "id": "XlGFOw7nba7K",
        "colab_type": "code",
        "colab": {
          "base_uri": "https://localhost:8080/",
          "height": 221
        },
        "outputId": "30ea9718-1da7-4267-e00d-3e5b1fbb0609"
      },
      "source": [
        "target"
      ],
      "execution_count": 66,
      "outputs": [
        {
          "output_type": "execute_result",
          "data": {
            "text/plain": [
              "714747        5.0\n",
              "2126464       1.0\n",
              "2005632       0.0\n",
              "676751        0.0\n",
              "2888674    1008.0\n",
              "            ...  \n",
              "856373        0.0\n",
              "1607043       0.0\n",
              "8826          0.0\n",
              "2662253     621.0\n",
              "3132872     410.0\n",
              "Name: Confirmed, Length: 2688878, dtype: float64"
            ]
          },
          "metadata": {
            "tags": []
          },
          "execution_count": 66
        }
      ]
    },
    {
      "cell_type": "code",
      "metadata": {
        "id": "0jxvk7NMboKY",
        "colab_type": "code",
        "colab": {
          "base_uri": "https://localhost:8080/",
          "height": 204
        },
        "outputId": "ba90abfb-19df-4dc4-c740-c762f812fc12"
      },
      "source": [
        "#Normalize the Predictors\n",
        "predictors_norm = (predictors - predictors.mean()) / predictors.std()\n",
        "predictors_norm.head()"
      ],
      "execution_count": 67,
      "outputs": [
        {
          "output_type": "execute_result",
          "data": {
            "text/html": [
              "<div>\n",
              "<style scoped>\n",
              "    .dataframe tbody tr th:only-of-type {\n",
              "        vertical-align: middle;\n",
              "    }\n",
              "\n",
              "    .dataframe tbody tr th {\n",
              "        vertical-align: top;\n",
              "    }\n",
              "\n",
              "    .dataframe thead th {\n",
              "        text-align: right;\n",
              "    }\n",
              "</style>\n",
              "<table border=\"1\" class=\"dataframe\">\n",
              "  <thead>\n",
              "    <tr style=\"text-align: right;\">\n",
              "      <th></th>\n",
              "      <th>Precipitation</th>\n",
              "      <th>Temperature</th>\n",
              "    </tr>\n",
              "  </thead>\n",
              "  <tbody>\n",
              "    <tr>\n",
              "      <th>714747</th>\n",
              "      <td>-0.269424</td>\n",
              "      <td>-0.368299</td>\n",
              "    </tr>\n",
              "    <tr>\n",
              "      <th>2126464</th>\n",
              "      <td>-0.269424</td>\n",
              "      <td>0.171836</td>\n",
              "    </tr>\n",
              "    <tr>\n",
              "      <th>2005632</th>\n",
              "      <td>-0.269424</td>\n",
              "      <td>-0.368299</td>\n",
              "    </tr>\n",
              "    <tr>\n",
              "      <th>676751</th>\n",
              "      <td>-0.231093</td>\n",
              "      <td>-0.368299</td>\n",
              "    </tr>\n",
              "    <tr>\n",
              "      <th>2888674</th>\n",
              "      <td>-0.269424</td>\n",
              "      <td>0.145272</td>\n",
              "    </tr>\n",
              "  </tbody>\n",
              "</table>\n",
              "</div>"
            ],
            "text/plain": [
              "         Precipitation  Temperature\n",
              "714747       -0.269424    -0.368299\n",
              "2126464      -0.269424     0.171836\n",
              "2005632      -0.269424    -0.368299\n",
              "676751       -0.231093    -0.368299\n",
              "2888674      -0.269424     0.145272"
            ]
          },
          "metadata": {
            "tags": []
          },
          "execution_count": 67
        }
      ]
    },
    {
      "cell_type": "markdown",
      "metadata": {
        "id": "rEcJS6dbbwq9",
        "colab_type": "text"
      },
      "source": [
        "Define Deep Learning Network with two layers each containing 50 Hidden Nodes and uses the Adam algorithm as optimizer and Relu function as activation function and Mean Sqaure Error as the loss function"
      ]
    },
    {
      "cell_type": "code",
      "metadata": {
        "id": "MRe1LDj7cLuU",
        "colab_type": "code",
        "colab": {}
      },
      "source": [
        ""
      ],
      "execution_count": 0,
      "outputs": []
    },
    {
      "cell_type": "code",
      "metadata": {
        "id": "HG4CR9WPcO-c",
        "colab_type": "code",
        "colab": {}
      },
      "source": [
        "n_cols = predictors_norm.shape[1] # number of predictors"
      ],
      "execution_count": 0,
      "outputs": []
    },
    {
      "cell_type": "code",
      "metadata": {
        "id": "Ku1DjYMCcC-2",
        "colab_type": "code",
        "colab": {}
      },
      "source": [
        "# define deep model\n",
        "def deep_model():\n",
        "    # create model\n",
        "    model = Sequential()\n",
        "    model.add(Dense(50, activation='relu', input_shape=(n_cols,)))\n",
        "    model.add(Dense(50, activation='relu'))\n",
        "    model.add(Dense(1))\n",
        "    \n",
        "    # compile model\n",
        "    model.compile(optimizer='adam', loss='mean_squared_error')\n",
        "    return model"
      ],
      "execution_count": 0,
      "outputs": []
    },
    {
      "cell_type": "code",
      "metadata": {
        "id": "UfIjXpxYcSuA",
        "colab_type": "code",
        "colab": {
          "base_uri": "https://localhost:8080/",
          "height": 139
        },
        "outputId": "8b3f1c93-d06e-4bd3-cb6e-a80daad8a44b"
      },
      "source": [
        "# build the model\n",
        "model = deep_model()"
      ],
      "execution_count": 72,
      "outputs": [
        {
          "output_type": "stream",
          "text": [
            "WARNING:tensorflow:From /usr/local/lib/python3.6/dist-packages/keras/backend/tensorflow_backend.py:541: The name tf.placeholder is deprecated. Please use tf.compat.v1.placeholder instead.\n",
            "\n",
            "WARNING:tensorflow:From /usr/local/lib/python3.6/dist-packages/keras/backend/tensorflow_backend.py:4432: The name tf.random_uniform is deprecated. Please use tf.random.uniform instead.\n",
            "\n",
            "WARNING:tensorflow:From /usr/local/lib/python3.6/dist-packages/keras/optimizers.py:793: The name tf.train.Optimizer is deprecated. Please use tf.compat.v1.train.Optimizer instead.\n",
            "\n"
          ],
          "name": "stdout"
        }
      ]
    },
    {
      "cell_type": "code",
      "metadata": {
        "id": "Q07c7LBWcZHX",
        "colab_type": "code",
        "colab": {
          "base_uri": "https://localhost:8080/",
          "height": 1000
        },
        "outputId": "f1d7d3bb-779b-4c25-f9e6-592577102d1e"
      },
      "source": [
        " #fit the model with 30% validation and 70% training\n",
        "model.fit(predictors_norm, target, validation_split=0.3, epochs=100, verbose=2)"
      ],
      "execution_count": 73,
      "outputs": [
        {
          "output_type": "stream",
          "text": [
            "WARNING:tensorflow:From /usr/local/lib/python3.6/dist-packages/keras/backend/tensorflow_backend.py:1033: The name tf.assign_add is deprecated. Please use tf.compat.v1.assign_add instead.\n",
            "\n",
            "WARNING:tensorflow:From /usr/local/lib/python3.6/dist-packages/keras/backend/tensorflow_backend.py:1020: The name tf.assign is deprecated. Please use tf.compat.v1.assign instead.\n",
            "\n",
            "WARNING:tensorflow:From /usr/local/lib/python3.6/dist-packages/keras/backend/tensorflow_backend.py:3005: The name tf.Session is deprecated. Please use tf.compat.v1.Session instead.\n",
            "\n",
            "Train on 1882214 samples, validate on 806664 samples\n",
            "Epoch 1/100\n",
            "WARNING:tensorflow:From /usr/local/lib/python3.6/dist-packages/keras/backend/tensorflow_backend.py:190: The name tf.get_default_session is deprecated. Please use tf.compat.v1.get_default_session instead.\n",
            "\n",
            "WARNING:tensorflow:From /usr/local/lib/python3.6/dist-packages/keras/backend/tensorflow_backend.py:197: The name tf.ConfigProto is deprecated. Please use tf.compat.v1.ConfigProto instead.\n",
            "\n",
            "WARNING:tensorflow:From /usr/local/lib/python3.6/dist-packages/keras/backend/tensorflow_backend.py:207: The name tf.global_variables is deprecated. Please use tf.compat.v1.global_variables instead.\n",
            "\n",
            "WARNING:tensorflow:From /usr/local/lib/python3.6/dist-packages/keras/backend/tensorflow_backend.py:216: The name tf.is_variable_initialized is deprecated. Please use tf.compat.v1.is_variable_initialized instead.\n",
            "\n",
            "WARNING:tensorflow:From /usr/local/lib/python3.6/dist-packages/keras/backend/tensorflow_backend.py:223: The name tf.variables_initializer is deprecated. Please use tf.compat.v1.variables_initializer instead.\n",
            "\n",
            " - 74s - loss: 14000924.6135 - val_loss: 14119143.9008\n",
            "Epoch 2/100\n",
            " - 75s - loss: 13949079.9391 - val_loss: 14119611.7187\n",
            "Epoch 3/100\n",
            " - 74s - loss: 13947948.8821 - val_loss: 14114266.1069\n",
            "Epoch 4/100\n",
            " - 74s - loss: 13945989.9294 - val_loss: 14121898.3668\n",
            "Epoch 5/100\n",
            " - 74s - loss: 13945814.0706 - val_loss: 14113343.8482\n",
            "Epoch 6/100\n",
            " - 75s - loss: 13944816.4833 - val_loss: 14116693.7293\n",
            "Epoch 7/100\n",
            " - 75s - loss: 13944346.1992 - val_loss: 14114266.5310\n",
            "Epoch 8/100\n",
            " - 74s - loss: 13944008.5262 - val_loss: 14111139.3783\n",
            "Epoch 9/100\n",
            " - 74s - loss: 13943358.3897 - val_loss: 14120962.5546\n",
            "Epoch 10/100\n",
            " - 73s - loss: 13943303.2152 - val_loss: 14109619.5137\n",
            "Epoch 11/100\n",
            " - 74s - loss: 13942813.6254 - val_loss: 14111167.3849\n",
            "Epoch 12/100\n",
            " - 74s - loss: 13942974.4239 - val_loss: 14115049.9045\n",
            "Epoch 13/100\n",
            " - 74s - loss: 13942788.4125 - val_loss: 14108990.4783\n",
            "Epoch 14/100\n",
            " - 74s - loss: 13942200.3783 - val_loss: 14111276.0954\n",
            "Epoch 15/100\n",
            " - 75s - loss: 13942506.9591 - val_loss: 14115272.3761\n",
            "Epoch 16/100\n",
            " - 74s - loss: 13942427.0598 - val_loss: 14111386.6009\n",
            "Epoch 17/100\n",
            " - 74s - loss: 13942376.4524 - val_loss: 14110889.2027\n",
            "Epoch 18/100\n",
            " - 74s - loss: 13942635.8693 - val_loss: 14109265.6355\n",
            "Epoch 19/100\n",
            " - 75s - loss: 13941981.5260 - val_loss: 14108965.8368\n",
            "Epoch 20/100\n",
            " - 76s - loss: 13942035.9559 - val_loss: 14109075.8104\n",
            "Epoch 21/100\n",
            " - 74s - loss: 13942024.3778 - val_loss: 14108660.9952\n",
            "Epoch 22/100\n",
            " - 74s - loss: 13942122.4255 - val_loss: 14112896.1878\n",
            "Epoch 23/100\n",
            " - 75s - loss: 13941753.8690 - val_loss: 14110336.4001\n",
            "Epoch 24/100\n",
            " - 74s - loss: 13941938.4902 - val_loss: 14110291.4710\n",
            "Epoch 25/100\n",
            " - 74s - loss: 13941920.9248 - val_loss: 14109513.3022\n",
            "Epoch 26/100\n",
            " - 74s - loss: 13942044.5869 - val_loss: 14109337.8620\n",
            "Epoch 27/100\n",
            " - 74s - loss: 13942068.5094 - val_loss: 14111932.9106\n",
            "Epoch 28/100\n",
            " - 74s - loss: 13941702.6798 - val_loss: 14112000.1254\n",
            "Epoch 29/100\n",
            " - 74s - loss: 13941582.7624 - val_loss: 14109731.2579\n",
            "Epoch 30/100\n",
            " - 73s - loss: 13941794.3712 - val_loss: 14111327.1696\n",
            "Epoch 31/100\n",
            " - 74s - loss: 13941999.6308 - val_loss: 14108490.1311\n",
            "Epoch 32/100\n",
            " - 75s - loss: 13941774.8792 - val_loss: 14110525.7297\n",
            "Epoch 33/100\n",
            " - 74s - loss: 13941690.5090 - val_loss: 14110125.5182\n",
            "Epoch 34/100\n",
            " - 74s - loss: 13941725.0175 - val_loss: 14110501.2384\n",
            "Epoch 35/100\n",
            " - 74s - loss: 13941613.6386 - val_loss: 14109666.8611\n",
            "Epoch 36/100\n",
            " - 75s - loss: 13941487.3507 - val_loss: 14110057.7682\n",
            "Epoch 37/100\n",
            " - 74s - loss: 13941789.5458 - val_loss: 14110883.5605\n",
            "Epoch 38/100\n",
            " - 74s - loss: 13941499.0617 - val_loss: 14111708.0024\n",
            "Epoch 39/100\n",
            " - 74s - loss: 13941525.8186 - val_loss: 14115555.6784\n",
            "Epoch 40/100\n",
            " - 74s - loss: 13942119.0485 - val_loss: 14110726.9149\n",
            "Epoch 41/100\n",
            " - 74s - loss: 13941421.6018 - val_loss: 14109000.0224\n",
            "Epoch 42/100\n",
            " - 73s - loss: 13941798.2868 - val_loss: 14108977.4663\n",
            "Epoch 43/100\n",
            " - 73s - loss: 13941372.7298 - val_loss: 14111454.1925\n",
            "Epoch 44/100\n",
            " - 74s - loss: 13941562.9432 - val_loss: 14112146.6013\n",
            "Epoch 45/100\n",
            " - 75s - loss: 13941648.5601 - val_loss: 14107427.0043\n",
            "Epoch 46/100\n",
            " - 74s - loss: 13941590.3668 - val_loss: 14108346.9469\n",
            "Epoch 47/100\n",
            " - 74s - loss: 13941581.4514 - val_loss: 14108201.4566\n",
            "Epoch 48/100\n",
            " - 75s - loss: 13941646.8728 - val_loss: 14108308.6690\n",
            "Epoch 49/100\n",
            " - 74s - loss: 13941469.2078 - val_loss: 14113461.7622\n",
            "Epoch 50/100\n",
            " - 74s - loss: 13941285.6642 - val_loss: 14109002.3862\n",
            "Epoch 51/100\n",
            " - 74s - loss: 13941090.9662 - val_loss: 14112791.4408\n",
            "Epoch 52/100\n",
            " - 74s - loss: 13941628.0798 - val_loss: 14110916.8690\n",
            "Epoch 53/100\n",
            " - 74s - loss: 13940996.7387 - val_loss: 14111284.8656\n",
            "Epoch 54/100\n",
            " - 73s - loss: 13941279.8288 - val_loss: 14114038.6298\n",
            "Epoch 55/100\n",
            " - 73s - loss: 13940846.5764 - val_loss: 14116552.3760\n",
            "Epoch 56/100\n",
            " - 73s - loss: 13941431.7842 - val_loss: 14107474.3051\n",
            "Epoch 57/100\n",
            " - 74s - loss: 13941179.1865 - val_loss: 14109651.4011\n",
            "Epoch 58/100\n",
            " - 73s - loss: 13940944.0773 - val_loss: 14111538.4549\n",
            "Epoch 59/100\n",
            " - 73s - loss: 13940710.6571 - val_loss: 14119306.6627\n",
            "Epoch 60/100\n",
            " - 73s - loss: 13940892.6085 - val_loss: 14114657.1219\n",
            "Epoch 61/100\n",
            " - 74s - loss: 13941257.7190 - val_loss: 14113512.6270\n",
            "Epoch 62/100\n",
            " - 74s - loss: 13940876.1810 - val_loss: 14111746.7457\n",
            "Epoch 63/100\n",
            " - 74s - loss: 13941230.7812 - val_loss: 14109483.5738\n",
            "Epoch 64/100\n",
            " - 74s - loss: 13941185.9395 - val_loss: 14109211.9592\n",
            "Epoch 65/100\n",
            " - 75s - loss: 13940908.3727 - val_loss: 14108223.3344\n",
            "Epoch 66/100\n",
            " - 74s - loss: 13940926.3551 - val_loss: 14108767.2745\n",
            "Epoch 67/100\n",
            " - 74s - loss: 13940941.0005 - val_loss: 14110069.0102\n",
            "Epoch 68/100\n",
            " - 74s - loss: 13941075.0598 - val_loss: 14110640.1773\n",
            "Epoch 69/100\n",
            " - 74s - loss: 13940779.1198 - val_loss: 14115171.5173\n",
            "Epoch 70/100\n",
            " - 76s - loss: 13940732.4885 - val_loss: 14110068.2380\n",
            "Epoch 71/100\n",
            " - 73s - loss: 13940417.6039 - val_loss: 14112377.1306\n",
            "Epoch 72/100\n",
            " - 73s - loss: 13941153.9778 - val_loss: 14111063.5895\n",
            "Epoch 73/100\n",
            " - 73s - loss: 13941138.5819 - val_loss: 14109247.8947\n",
            "Epoch 74/100\n",
            " - 74s - loss: 13940395.8348 - val_loss: 14109412.6649\n",
            "Epoch 75/100\n",
            " - 73s - loss: 13940896.5984 - val_loss: 14109633.5277\n",
            "Epoch 76/100\n",
            " - 73s - loss: 13940837.2970 - val_loss: 14109765.9698\n",
            "Epoch 77/100\n",
            " - 73s - loss: 13940649.9244 - val_loss: 14115404.5720\n",
            "Epoch 78/100\n",
            " - 74s - loss: 13940887.5006 - val_loss: 14110206.6000\n",
            "Epoch 79/100\n",
            " - 74s - loss: 13940825.7065 - val_loss: 14108037.6739\n",
            "Epoch 80/100\n",
            " - 74s - loss: 13940513.8992 - val_loss: 14107692.2499\n",
            "Epoch 81/100\n",
            " - 74s - loss: 13940451.5436 - val_loss: 14108802.7478\n",
            "Epoch 82/100\n",
            " - 76s - loss: 13940551.2470 - val_loss: 14110045.6789\n",
            "Epoch 83/100\n",
            " - 75s - loss: 13940250.2858 - val_loss: 14109100.2311\n",
            "Epoch 84/100\n",
            " - 75s - loss: 13940389.3077 - val_loss: 14107951.4652\n",
            "Epoch 85/100\n",
            " - 74s - loss: 13940575.8631 - val_loss: 14107492.9354\n",
            "Epoch 86/100\n",
            " - 76s - loss: 13940030.8309 - val_loss: 14107748.1742\n",
            "Epoch 87/100\n",
            " - 75s - loss: 13940299.3840 - val_loss: 14110489.9231\n",
            "Epoch 88/100\n",
            " - 75s - loss: 13939799.0427 - val_loss: 14108817.6554\n",
            "Epoch 89/100\n",
            " - 74s - loss: 13940096.3195 - val_loss: 14108076.4487\n",
            "Epoch 90/100\n",
            " - 75s - loss: 13939832.7623 - val_loss: 14110422.5110\n",
            "Epoch 91/100\n",
            " - 75s - loss: 13940493.8014 - val_loss: 14108217.5695\n",
            "Epoch 92/100\n",
            " - 74s - loss: 13939967.0801 - val_loss: 14109217.1368\n",
            "Epoch 93/100\n",
            " - 74s - loss: 13939765.0357 - val_loss: 14110108.8582\n",
            "Epoch 94/100\n",
            " - 74s - loss: 13940014.4741 - val_loss: 14107122.5583\n",
            "Epoch 95/100\n",
            " - 75s - loss: 13940523.1756 - val_loss: 14108373.4141\n",
            "Epoch 96/100\n",
            " - 73s - loss: 13940186.0039 - val_loss: 14107463.5788\n",
            "Epoch 97/100\n",
            " - 73s - loss: 13939674.9544 - val_loss: 14108457.7238\n",
            "Epoch 98/100\n",
            " - 74s - loss: 13940064.3548 - val_loss: 14110270.4143\n",
            "Epoch 99/100\n",
            " - 74s - loss: 13940288.1978 - val_loss: 14109941.8724\n",
            "Epoch 100/100\n",
            " - 74s - loss: 13940147.0090 - val_loss: 14107828.3606\n"
          ],
          "name": "stdout"
        },
        {
          "output_type": "execute_result",
          "data": {
            "text/plain": [
              "<keras.callbacks.History at 0x7f8d9570eb00>"
            ]
          },
          "metadata": {
            "tags": []
          },
          "execution_count": 73
        }
      ]
    },
    {
      "cell_type": "code",
      "metadata": {
        "id": "RWKWhZPUvEL2",
        "colab_type": "code",
        "colab": {}
      },
      "source": [
        "#normalize the test data set \n",
        "predictors_test = test_dataset[test_dataset.columns[test_dataset.columns != 'Confirmed']] \n",
        "target_test = test_dataset['Confirmed'] "
      ],
      "execution_count": 0,
      "outputs": []
    },
    {
      "cell_type": "code",
      "metadata": {
        "id": "oKhcoTT5vXPf",
        "colab_type": "code",
        "colab": {
          "base_uri": "https://localhost:8080/",
          "height": 204
        },
        "outputId": "ccb7b055-a541-45ba-8491-276e18816edd"
      },
      "source": [
        "predictors_test_norm = (predictors_test - predictors_test.mean()) / predictors_test.std()\n",
        "predictors_test_norm.head()"
      ],
      "execution_count": 76,
      "outputs": [
        {
          "output_type": "execute_result",
          "data": {
            "text/html": [
              "<div>\n",
              "<style scoped>\n",
              "    .dataframe tbody tr th:only-of-type {\n",
              "        vertical-align: middle;\n",
              "    }\n",
              "\n",
              "    .dataframe tbody tr th {\n",
              "        vertical-align: top;\n",
              "    }\n",
              "\n",
              "    .dataframe thead th {\n",
              "        text-align: right;\n",
              "    }\n",
              "</style>\n",
              "<table border=\"1\" class=\"dataframe\">\n",
              "  <thead>\n",
              "    <tr style=\"text-align: right;\">\n",
              "      <th></th>\n",
              "      <th>Precipitation</th>\n",
              "      <th>Temperature</th>\n",
              "    </tr>\n",
              "  </thead>\n",
              "  <tbody>\n",
              "    <tr>\n",
              "      <th>3</th>\n",
              "      <td>-0.268343</td>\n",
              "      <td>-0.368567</td>\n",
              "    </tr>\n",
              "    <tr>\n",
              "      <th>15</th>\n",
              "      <td>-0.268343</td>\n",
              "      <td>-0.368567</td>\n",
              "    </tr>\n",
              "    <tr>\n",
              "      <th>21</th>\n",
              "      <td>-0.268343</td>\n",
              "      <td>-0.368567</td>\n",
              "    </tr>\n",
              "    <tr>\n",
              "      <th>26</th>\n",
              "      <td>-0.268343</td>\n",
              "      <td>-0.368567</td>\n",
              "    </tr>\n",
              "    <tr>\n",
              "      <th>28</th>\n",
              "      <td>-0.268343</td>\n",
              "      <td>-0.368567</td>\n",
              "    </tr>\n",
              "  </tbody>\n",
              "</table>\n",
              "</div>"
            ],
            "text/plain": [
              "    Precipitation  Temperature\n",
              "3       -0.268343    -0.368567\n",
              "15      -0.268343    -0.368567\n",
              "21      -0.268343    -0.368567\n",
              "26      -0.268343    -0.368567\n",
              "28      -0.268343    -0.368567"
            ]
          },
          "metadata": {
            "tags": []
          },
          "execution_count": 76
        }
      ]
    },
    {
      "cell_type": "code",
      "metadata": {
        "id": "UoBelJ_BvcK_",
        "colab_type": "code",
        "colab": {}
      },
      "source": [
        "test_predictions = model.predict(predictors_test_norm).flatten()"
      ],
      "execution_count": 0,
      "outputs": []
    },
    {
      "cell_type": "code",
      "metadata": {
        "id": "hRJWkNB1vhVX",
        "colab_type": "code",
        "colab": {}
      },
      "source": [
        "import matplotlib.pyplot as plt"
      ],
      "execution_count": 0,
      "outputs": []
    },
    {
      "cell_type": "code",
      "metadata": {
        "id": "u6xU8EtYvj7B",
        "colab_type": "code",
        "colab": {
          "base_uri": "https://localhost:8080/",
          "height": 283
        },
        "outputId": "087c9dab-96fa-4f7c-9b51-95ea51ca1e98"
      },
      "source": [
        "a = plt.axes(aspect='equal')\n",
        "plt.scatter(target_test, test_predictions)\n",
        "plt.xlabel('True Values [Confirmed]')\n",
        "plt.ylabel('Predictions [Confirmed]')\n",
        "\n",
        "\n",
        "lims = [0, 50]\n",
        "plt.xlim(lims)\n",
        "plt.ylim(lims)\n",
        "_ = plt.plot(lims, lims)"
      ],
      "execution_count": 79,
      "outputs": [
        {
          "output_type": "display_data",
          "data": {
            "image/png": "[encoded data removed]",
            "text/plain": [
              "<Figure size 432x288 with 1 Axes>"
            ]
          },
          "metadata": {
            "tags": []
          }
        }
      ]
    },
    {
      "cell_type": "markdown",
      "metadata": {
        "id": "ZZFk3jTHqahV",
        "colab_type": "text"
      },
      "source": [
        ""
      ]
    }
  ]
}